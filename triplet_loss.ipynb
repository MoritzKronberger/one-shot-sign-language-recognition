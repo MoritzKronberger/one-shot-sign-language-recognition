{
 "cells": [
  {
   "cell_type": "markdown",
   "metadata": {},
   "source": [
    "# Triplet Loss"
   ]
  },
  {
   "cell_type": "code",
   "execution_count": 1,
   "metadata": {},
   "outputs": [],
   "source": [
    "from pathlib import Path\n",
    "\n",
    "METRICS_FILEPATH = \"metrics.json\"\n",
    "\n",
    "MODEL_DIR = \"models\"\n",
    "FIG_DIR = \"figures\"\n",
    "\n",
    "# Create output directories if not exist\n",
    "Path(MODEL_DIR).mkdir(parents=True, exist_ok=True)\n",
    "Path(FIG_DIR).mkdir(parents=True, exist_ok=True)"
   ]
  },
  {
   "cell_type": "markdown",
   "metadata": {},
   "source": [
    "## Intuition\n",
    "\n",
    "With Contrastive Loss, our model seemed to be struggling to push apart the embeddings far enough to allow for reliable discrimination of hard pairings.\n",
    "\n",
    "A solution to this problem might be [Triplet Loss](https://lilianweng.github.io/posts/2021-05-31-contrastive/#triplet-loss).\n",
    "\n",
    "With Triplet Loss we extend the comparison to include a reference (anchor) $x_i^a$ a similar (positive) $x_i^p$ **and** a dissimilar (negative) sample $x_i^n$.\n",
    "\n",
    "If we assume our Neural Network to be a function $f$, Triplet Loss for a single triplet can be formulated as:\n",
    "\n",
    "$$L_{triplet}(x_i^a, x_i^p, x_i^n; f; m) = max(0, ||f(x_i^a) - f(x_i^p) ||^2_2 - ||f(x_i^a) - f(x_i^n) ||^2_2 + m)$$\n",
    "\n",
    "where $m$ again denotes the desired distance for the dissimilar sample."
   ]
  },
  {
   "cell_type": "markdown",
   "metadata": {},
   "source": [
    "## Hard Triplet Mining\n",
    "\n",
    "As our Contrastive Loss model was struggling on hard comparisons, we'll also try to be more intent with the comparisons chosen for the model training.\n",
    "\n",
    "We could define hard triplets as triplets, where the model's predicted distance between the anchor and the positive is larger than the distance between the anchor and the negative plus the margin $m$.\n",
    "\n",
    "In practice, selecting only such triplets seems to cause model instabilities, especially in the early stages of training. (We can observe this when swapping the loss function for `TripletHardLoss`.)\n",
    "\n",
    "Therefore we'll instead be using semi-hard triplets, where the distance between the negative and the anchor is within the margin $m$ and greater than, but close to, the distance between the anchor and the positive."
   ]
  },
  {
   "cell_type": "markdown",
   "metadata": {},
   "source": [
    "## One-Shot Classification using Triplet Loss\n",
    "\n",
    "We'll use the [`TripletSemiHardLoss` function from the TensorFlow Addons library](https://www.tensorflow.org/addons/api_docs/python/tfa/losses/TripletSemiHardLoss) for Triplet Loss with semi-hard negative mining.\n",
    "\n",
    "Since this implementation handles the formation of triplets entirely as part of the loss function, we don't need to structure our model as as Siamese Neural Network.\n",
    "\n",
    "We can therefore simply load our dataset as categorical data:"
   ]
  },
  {
   "cell_type": "code",
   "execution_count": 2,
   "metadata": {},
   "outputs": [
    {
     "name": "stdout",
     "output_type": "stream",
     "text": [
      "Warning: Your Kaggle API key is readable by other users on this system! To fix this, you can run 'chmod 600 /Users/moritz/.kaggle/kaggle.json'\n"
     ]
    }
   ],
   "source": [
    "from core.dataset import DGSAlphabet\n",
    "\n",
    "TEST_LABELS = ['u', 'v', 'w', 'x', 'y']\n",
    "\n",
    "# Import the dataset\n",
    "dataset = DGSAlphabet()\n",
    "categorical_dataset = dataset.load_categorical_numeric(\n",
    "    exclusive_test_labels=TEST_LABELS\n",
    ")\n",
    "x_train = categorical_dataset.x_train\n",
    "y_train = categorical_dataset.y_train\n",
    "x_test = categorical_dataset.x_test\n",
    "y_test = categorical_dataset.y_test\n",
    "label_map = categorical_dataset.label_map"
   ]
  },
  {
   "cell_type": "markdown",
   "metadata": {},
   "source": [
    "As always we'll optimize the model architecture with Keras Tuner.\n",
    "\n",
    "The model will simply be an encoder with L2 Normalization as the last layer as specified in the [TFA documentation](https://www.tensorflow.org/addons/api_docs/python/tfa/losses/TripletSemiHardLoss):"
   ]
  },
  {
   "cell_type": "code",
   "execution_count": 3,
   "metadata": {},
   "outputs": [
    {
     "name": "stderr",
     "output_type": "stream",
     "text": [
      "/Users/moritz/Documents/Hochschule Augsburg/Semester 2 - Master/Data Science/project/venv/lib/python3.10/site-packages/tensorflow_addons/utils/tfa_eol_msg.py:23: UserWarning: \n",
      "\n",
      "TensorFlow Addons (TFA) has ended development and introduction of new features.\n",
      "TFA has entered a minimal maintenance and release mode until a planned end of life in May 2024.\n",
      "Please modify downstream libraries to take dependencies from other repositories in our TensorFlow community (e.g. Keras, Keras-CV, and Keras-NLP). \n",
      "\n",
      "For more information see: https://github.com/tensorflow/addons/issues/2807 \n",
      "\n",
      "  warnings.warn(\n"
     ]
    }
   ],
   "source": [
    "from tensorflow_addons.losses import TripletSemiHardLoss\n",
    "from core.util import new_SNN_builder\n",
    "\n",
    "# Create model builder for Keras Tuner\n",
    "build_model = new_SNN_builder(\n",
    "    mode=\"encoder_l2\",\n",
    "    loss=TripletSemiHardLoss(\n",
    "        margin=1.0,\n",
    "        distance_metric=\"angular\"\n",
    "    )\n",
    ")"
   ]
  },
  {
   "cell_type": "code",
   "execution_count": 4,
   "metadata": {},
   "outputs": [],
   "source": [
    "# Tuning Hyperparameters\n",
    "# https://keras.io/api/keras_tuner/tuners/hyperband\n",
    "MAX_EPOCHS = 200\n",
    "FACTOR = 3\n",
    "HYPERBAND_ITERATIONS = 1\n",
    "SEED = 42\n",
    "VAL_SPLIT = 0.2\n",
    "\n",
    "# Where to save tuner checkpoints\n",
    "TUNER_DIR = \"tuner\"\n",
    "PROJECT = \"triplet_loss\""
   ]
  },
  {
   "cell_type": "code",
   "execution_count": 5,
   "metadata": {},
   "outputs": [
    {
     "name": "stdout",
     "output_type": "stream",
     "text": [
      "Reloading Tuner from tuner/triplet_loss/tuner0.json\n",
      "Search space summary\n",
      "Default search space size: 7\n",
      "dense_count (Int)\n",
      "{'default': None, 'conditions': [], 'min_value': 2, 'max_value': 10, 'step': 2, 'sampling': 'linear'}\n",
      "dense_base (Int)\n",
      "{'default': None, 'conditions': [], 'min_value': 8, 'max_value': 64, 'step': 8, 'sampling': 'linear'}\n",
      "encoder_dropout (Boolean)\n",
      "{'default': False, 'conditions': []}\n",
      "start_lr (Float)\n",
      "{'default': 5e-05, 'conditions': [], 'min_value': 5e-05, 'max_value': 0.001, 'step': 5e-05, 'sampling': 'linear'}\n",
      "beta_1 (Float)\n",
      "{'default': 0.7, 'conditions': [], 'min_value': 0.7, 'max_value': 0.9, 'step': 0.1, 'sampling': 'linear'}\n",
      "beta_2 (Float)\n",
      "{'default': 0.99, 'conditions': [], 'min_value': 0.99, 'max_value': 0.999, 'step': 0.001, 'sampling': 'linear'}\n",
      "epsilon (Float)\n",
      "{'default': 0.001, 'conditions': [], 'min_value': 0.001, 'max_value': 0.01, 'step': 0.001, 'sampling': 'linear'}\n"
     ]
    }
   ],
   "source": [
    "import keras_tuner\n",
    "\n",
    "tuner = keras_tuner.Hyperband(\n",
    "    hypermodel=build_model,\n",
    "    objective=\"val_loss\",\n",
    "    max_epochs=MAX_EPOCHS,\n",
    "    factor=FACTOR,\n",
    "    hyperband_iterations=HYPERBAND_ITERATIONS,\n",
    "    seed=SEED,\n",
    "    directory=TUNER_DIR,\n",
    "    project_name=PROJECT\n",
    ")\n",
    "\n",
    "tuner.search_space_summary()"
   ]
  },
  {
   "cell_type": "markdown",
   "metadata": {},
   "source": [
    "We'll use the same callbacks as for the Contrastive Loss training."
   ]
  },
  {
   "cell_type": "code",
   "execution_count": 6,
   "metadata": {},
   "outputs": [
    {
     "name": "stdout",
     "output_type": "stream",
     "text": [
      "Loading history from JSON tuner/triplet_loss/history.json\n"
     ]
    }
   ],
   "source": [
    "from core.util import new_default_callbacks\n",
    "\n",
    "from core.util import new_default_callbacks, TunerHistoryCallback\n",
    "\n",
    "# Reduce learning rate if no improvement is made\n",
    "reduce_lr, early_stop = new_default_callbacks(\n",
    "    monitor=\"val_loss\",\n",
    "    mode=\"min\",\n",
    "    lr_reduce_factor=0.2,\n",
    "    lr_reduce_patience=10,\n",
    "    early_stopping_start=10,\n",
    "    early_stopping_patience=20,\n",
    "    verbose=1\n",
    ")\n",
    "\n",
    "# Keep track of histories for every tuner trial\n",
    "tuner_history_cb = TunerHistoryCallback(tuner)"
   ]
  },
  {
   "cell_type": "code",
   "execution_count": 7,
   "metadata": {},
   "outputs": [],
   "source": [
    "tuner.search(\n",
    "    x_train, \n",
    "    y_train,\n",
    "    validation_split=VAL_SPLIT,\n",
    "    callbacks=[reduce_lr, early_stop, tuner_history_cb]\n",
    ")"
   ]
  },
  {
   "cell_type": "code",
   "execution_count": 8,
   "metadata": {},
   "outputs": [
    {
     "name": "stdout",
     "output_type": "stream",
     "text": [
      "Results summary\n",
      "Results in tuner/triplet_loss\n",
      "Showing 10 best trials\n",
      "Objective(name=\"val_loss\", direction=\"min\")\n",
      "\n",
      "Trial 0246 summary\n",
      "Hyperparameters:\n",
      "dense_count: 4\n",
      "dense_base: 48\n",
      "encoder_dropout: False\n",
      "start_lr: 0.0007000000000000001\n",
      "beta_1: 0.7\n",
      "beta_2: 0.998\n",
      "epsilon: 0.001\n",
      "tuner/epochs: 200\n",
      "tuner/initial_epoch: 0\n",
      "tuner/bracket: 0\n",
      "tuner/round: 0\n",
      "Score: 0.10158593952655792\n",
      "\n",
      "Trial 0233 summary\n",
      "Hyperparameters:\n",
      "dense_count: 6\n",
      "dense_base: 64\n",
      "encoder_dropout: False\n",
      "start_lr: 0.0007000000000000001\n",
      "beta_1: 0.7999999999999999\n",
      "beta_2: 0.992\n",
      "epsilon: 0.008\n",
      "tuner/epochs: 200\n",
      "tuner/initial_epoch: 67\n",
      "tuner/bracket: 2\n",
      "tuner/round: 2\n",
      "tuner/trial_id: 0226\n",
      "Score: 0.13295254111289978\n",
      "\n",
      "Trial 0232 summary\n",
      "Hyperparameters:\n",
      "dense_count: 10\n",
      "dense_base: 40\n",
      "encoder_dropout: False\n",
      "start_lr: 0.0004\n",
      "beta_1: 0.7\n",
      "beta_2: 0.998\n",
      "epsilon: 0.010000000000000002\n",
      "tuner/epochs: 200\n",
      "tuner/initial_epoch: 67\n",
      "tuner/bracket: 2\n",
      "tuner/round: 2\n",
      "tuner/trial_id: 0229\n",
      "Score: 0.14004473388195038\n",
      "\n",
      "Trial 0206 summary\n",
      "Hyperparameters:\n",
      "dense_count: 6\n",
      "dense_base: 64\n",
      "encoder_dropout: False\n",
      "start_lr: 0.00035000000000000005\n",
      "beta_1: 0.7\n",
      "beta_2: 0.997\n",
      "epsilon: 0.001\n",
      "tuner/epochs: 200\n",
      "tuner/initial_epoch: 67\n",
      "tuner/bracket: 3\n",
      "tuner/round: 3\n",
      "tuner/trial_id: 0202\n",
      "Score: 0.14673341810703278\n",
      "\n",
      "Trial 0244 summary\n",
      "Hyperparameters:\n",
      "dense_count: 6\n",
      "dense_base: 32\n",
      "encoder_dropout: True\n",
      "start_lr: 0.00030000000000000003\n",
      "beta_1: 0.7999999999999999\n",
      "beta_2: 0.993\n",
      "epsilon: 0.002\n",
      "tuner/epochs: 200\n",
      "tuner/initial_epoch: 67\n",
      "tuner/bracket: 1\n",
      "tuner/round: 1\n",
      "tuner/trial_id: 0241\n",
      "Score: 0.1469009667634964\n",
      "\n",
      "Trial 0207 summary\n",
      "Hyperparameters:\n",
      "dense_count: 8\n",
      "dense_base: 40\n",
      "encoder_dropout: False\n",
      "start_lr: 0.00045000000000000004\n",
      "beta_1: 0.7999999999999999\n",
      "beta_2: 0.993\n",
      "epsilon: 0.009000000000000001\n",
      "tuner/epochs: 200\n",
      "tuner/initial_epoch: 67\n",
      "tuner/bracket: 3\n",
      "tuner/round: 3\n",
      "tuner/trial_id: 0205\n",
      "Score: 0.15094155073165894\n",
      "\n",
      "Trial 0145 summary\n",
      "Hyperparameters:\n",
      "dense_count: 8\n",
      "dense_base: 56\n",
      "encoder_dropout: False\n",
      "start_lr: 0.00030000000000000003\n",
      "beta_1: 0.7999999999999999\n",
      "beta_2: 0.991\n",
      "epsilon: 0.005\n",
      "tuner/epochs: 200\n",
      "tuner/initial_epoch: 67\n",
      "tuner/bracket: 4\n",
      "tuner/round: 4\n",
      "tuner/trial_id: 0143\n",
      "Score: 0.15575654804706573\n",
      "\n",
      "Trial 0248 summary\n",
      "Hyperparameters:\n",
      "dense_count: 6\n",
      "dense_base: 56\n",
      "encoder_dropout: False\n",
      "start_lr: 0.0001\n",
      "beta_1: 0.7999999999999999\n",
      "beta_2: 0.999\n",
      "epsilon: 0.002\n",
      "tuner/epochs: 200\n",
      "tuner/initial_epoch: 0\n",
      "tuner/bracket: 0\n",
      "tuner/round: 0\n",
      "Score: 0.15694387257099152\n",
      "\n",
      "Trial 0202 summary\n",
      "Hyperparameters:\n",
      "dense_count: 6\n",
      "dense_base: 64\n",
      "encoder_dropout: False\n",
      "start_lr: 0.00035000000000000005\n",
      "beta_1: 0.7\n",
      "beta_2: 0.997\n",
      "epsilon: 0.001\n",
      "tuner/epochs: 67\n",
      "tuner/initial_epoch: 23\n",
      "tuner/bracket: 3\n",
      "tuner/round: 2\n",
      "tuner/trial_id: 0190\n",
      "Score: 0.15950405597686768\n",
      "\n",
      "Trial 0247 summary\n",
      "Hyperparameters:\n",
      "dense_count: 4\n",
      "dense_base: 56\n",
      "encoder_dropout: True\n",
      "start_lr: 0.0009500000000000001\n",
      "beta_1: 0.7999999999999999\n",
      "beta_2: 0.995\n",
      "epsilon: 0.010000000000000002\n",
      "tuner/epochs: 200\n",
      "tuner/initial_epoch: 0\n",
      "tuner/bracket: 0\n",
      "tuner/round: 0\n",
      "Score: 0.15982939302921295\n"
     ]
    }
   ],
   "source": [
    "tuner.results_summary()"
   ]
  },
  {
   "cell_type": "markdown",
   "metadata": {},
   "source": [
    "Since we want convenient access to the model's encoder part, we'll re-instantiate the model with the best architecture and transfer the best model's weights:"
   ]
  },
  {
   "cell_type": "code",
   "execution_count": 9,
   "metadata": {},
   "outputs": [
    {
     "name": "stderr",
     "output_type": "stream",
     "text": [
      "WARNING:absl:At this time, the v2.11+ optimizer `tf.keras.optimizers.Adam` runs slowly on M1/M2 Macs, please use the legacy Keras optimizer instead, located at `tf.keras.optimizers.legacy.Adam`.\n",
      "WARNING:absl:At this time, the v2.11+ optimizer `tf.keras.optimizers.Adam` runs slowly on M1/M2 Macs, please use the legacy Keras optimizer instead, located at `tf.keras.optimizers.legacy.Adam`.\n"
     ]
    },
    {
     "name": "stdout",
     "output_type": "stream",
     "text": [
      "Model: \"encoder_l2\"\n",
      "_________________________________________________________________\n",
      " Layer (type)                Output Shape              Param #   \n",
      "=================================================================\n",
      " Landmark_Input (InputLayer  [(None, 21, 3)]           0         \n",
      " )                                                               \n",
      "                                                                 \n",
      " Layer_Norm (LayerNormaliza  (None, 21, 3)             6         \n",
      " tion)                                                           \n",
      "                                                                 \n",
      " Flatten_Landmarks (Flatten  (None, 63)                0         \n",
      " )                                                               \n",
      "                                                                 \n",
      " Dense_1 (Dense)             (None, 768)               49152     \n",
      "                                                                 \n",
      " Dense_2 (Dense)             (None, 432)               332208    \n",
      "                                                                 \n",
      " Dense_3 (Dense)             (None, 192)               83136     \n",
      "                                                                 \n",
      " Dense_4 (Dense)             (None, 48)                9264      \n",
      "                                                                 \n",
      " lambda_1 (Lambda)           (None, 48)                0         \n",
      "                                                                 \n",
      "=================================================================\n",
      "Total params: 473766 (1.81 MB)\n",
      "Trainable params: 473766 (1.81 MB)\n",
      "Non-trainable params: 0 (0.00 Byte)\n",
      "_________________________________________________________________\n",
      "Model: \"SNN_4_encoder\"\n",
      "_________________________________________________________________\n",
      " Layer (type)                Output Shape              Param #   \n",
      "=================================================================\n",
      " Landmark_Input (InputLayer  [(None, 21, 3)]           0         \n",
      " )                                                               \n",
      "                                                                 \n",
      " Layer_Norm (LayerNormaliza  (None, 21, 3)             6         \n",
      " tion)                                                           \n",
      "                                                                 \n",
      " Flatten_Landmarks (Flatten  (None, 63)                0         \n",
      " )                                                               \n",
      "                                                                 \n",
      " Dense_1 (Dense)             (None, 768)               49152     \n",
      "                                                                 \n",
      " Dense_2 (Dense)             (None, 432)               332208    \n",
      "                                                                 \n",
      " Dense_3 (Dense)             (None, 192)               83136     \n",
      "                                                                 \n",
      " Dense_4 (Dense)             (None, 48)                9264      \n",
      "                                                                 \n",
      "=================================================================\n",
      "Total params: 473766 (1.81 MB)\n",
      "Trainable params: 473766 (1.81 MB)\n",
      "Non-trainable params: 0 (0.00 Byte)\n",
      "_________________________________________________________________\n"
     ]
    }
   ],
   "source": [
    "# Get history of best model training\n",
    "best_trial = tuner.oracle.get_best_trials(1)[0]\n",
    "best_model_history = tuner_history_cb.get_trial_history(\n",
    "    best_trial.trial_id\n",
    ")\n",
    "\n",
    "# Get weights of best model\n",
    "best_model = tuner.get_best_models(1)[0]\n",
    "best_weights = best_model.weights\n",
    "\n",
    "# Re-create best architecture\n",
    "best_hyper_params = tuner.get_best_hyperparameters(1)[0]\n",
    "snn_encoder, siamese_snn = build_model(best_hyper_params, get_encoder=True)\n",
    "siamese_snn.set_weights(best_weights)\n",
    "\n",
    "siamese_snn.summary()\n",
    "snn_encoder.summary()"
   ]
  },
  {
   "cell_type": "markdown",
   "metadata": {},
   "source": [
    "Let's save the best model and take a look at its training history:"
   ]
  },
  {
   "cell_type": "code",
   "execution_count": 10,
   "metadata": {},
   "outputs": [],
   "source": [
    "from pathlib import Path\n",
    "\n",
    "MODEL_DIR = \"models\"\n",
    "Path(MODEL_DIR).mkdir(parents=True, exist_ok=True)\n",
    "\n",
    "siamese_snn.save(f\"{MODEL_DIR}/triplet_loss.keras\")"
   ]
  },
  {
   "cell_type": "markdown",
   "metadata": {},
   "source": [
    "The model now takes even longer to converge and we can notice some significant spikes in both, training and validation loss.\n",
    "\n",
    "This could, however, also simply be due to the training objective getting progressively harder, when we are selecting new semi-hard triplets for every mini-batch."
   ]
  },
  {
   "cell_type": "code",
   "execution_count": 11,
   "metadata": {},
   "outputs": [
    {
     "data": {
      "image/png": "[encoded data removed]",
      "text/plain": [
       "<Figure size 500x300 with 1 Axes>"
      ]
     },
     "metadata": {},
     "output_type": "display_data"
    }
   ],
   "source": [
    "from core.viz import visualize_history\n",
    "\n",
    "visualize_history(\n",
    "    best_model_history,\n",
    "    [\"loss\"],\n",
    "    \"Triplet Loss\",\n",
    "    f\"{FIG_DIR}/triplet_loss_history.svg\"\n",
    ")"
   ]
  },
  {
   "cell_type": "markdown",
   "metadata": {},
   "source": [
    "Our loss on new signs, seems significantly worse than with Contrastive Loss (at least in absolute numbers):"
   ]
  },
  {
   "cell_type": "code",
   "execution_count": 12,
   "metadata": {},
   "outputs": [
    {
     "name": "stdout",
     "output_type": "stream",
     "text": [
      "++++++++++++ Test data ++++++++++++\n",
      "loss=0.8102\n"
     ]
    }
   ],
   "source": [
    "# And evaluate the model on test data\n",
    "loss = siamese_snn.evaluate(x_test, y_test, verbose=0)\n",
    "print(f'++++++++++++ Test data ++++++++++++\\nloss={loss:.4f}')"
   ]
  },
  {
   "cell_type": "markdown",
   "metadata": {},
   "source": [
    "Evaluating the model's 5-way One-Shot classification accuracy unfortunately shows the same trend:"
   ]
  },
  {
   "cell_type": "code",
   "execution_count": 13,
   "metadata": {},
   "outputs": [
    {
     "name": "stdout",
     "output_type": "stream",
     "text": [
      "Mean 5-way accuracy: 0.6079746835443038\n",
      "Min 5-way accuracy: 0.4936708860759494\n",
      "Max 5-way accuracy: 0.6810126582278481\n",
      "5-way accuracy std.: 0.06357795770277734\n"
     ]
    }
   ],
   "source": [
    "from core.util import evaluate_n_way_accuracy\n",
    "\n",
    "\n",
    "y_true, y_pred, mean_acc, min_acc, max_acc, std = evaluate_n_way_accuracy(\n",
    "    x_test,\n",
    "    y_test,\n",
    "    snn_encoder,\n",
    "    k_prototype=1,\n",
    "    iterations=10\n",
    ")\n",
    "\n",
    "print(\n",
    "    f\"Mean 5-way accuracy: {mean_acc}\\n\"\n",
    "    f\"Min 5-way accuracy: {min_acc}\\n\"\n",
    "    f\"Max 5-way accuracy: {max_acc}\\n\"\n",
    "    f\"5-way accuracy std.: {std}\"\n",
    ")"
   ]
  },
  {
   "cell_type": "markdown",
   "metadata": {},
   "source": [
    "Looking at the confusion matrix, we can the the same struggle with the \"u\" and \"v\" classes with lots of additional confusions for other classes as well:"
   ]
  },
  {
   "cell_type": "code",
   "execution_count": 14,
   "metadata": {},
   "outputs": [
    {
     "data": {
      "image/png": "[encoded data removed]",
      "text/plain": [
       "<Figure size 500x500 with 1 Axes>"
      ]
     },
     "metadata": {},
     "output_type": "display_data"
    }
   ],
   "source": [
    "from core.viz import visualize_confusion_matrix\n",
    "\n",
    "unique_test_labels = list(set(y_test))\n",
    "reverse_label_map = {int_lbl: str_lbl for str_lbl, int_lbl in label_map.items()}\n",
    "str_test_labels = [reverse_label_map[lbl] for lbl in unique_test_labels]\n",
    "\n",
    "visualize_confusion_matrix(\n",
    "    y_true, y_pred,\n",
    "    str_test_labels,\n",
    "    f\"{FIG_DIR}/triplet_loss_conf_matrix.svg\"\n",
    ")"
   ]
  },
  {
   "cell_type": "markdown",
   "metadata": {},
   "source": [
    "Using multiple support samples to form support prototypes increases the 5-way accuracy, however it's still lower than the Contrastive Loss model's accuracy without prototypes: "
   ]
  },
  {
   "cell_type": "code",
   "execution_count": 15,
   "metadata": {},
   "outputs": [
    {
     "name": "stdout",
     "output_type": "stream",
     "text": [
      "Mean 5-way accuracy (k-prototype = 1): 0.6079746835443038, std: 0.06357795770277734\n",
      "Mean 5-way accuracy (k-prototype = 3): 0.6540127388535031, std: 0.06878202362172792\n",
      "Mean 5-way accuracy (k-prototype = 5): 0.7123076923076923, std: 0.034026085441419746\n",
      "Mean 5-way accuracy (k-prototype = 10): 0.7336807817589577, std: 0.021970533124513386\n",
      "Mean 5-way accuracy (k-prototype = 15): 0.730728476821192, std: 0.0103158317767527\n",
      "Mean 5-way accuracy (k-prototype = 20): 0.7296969696969697, std: 0.009870317392902506\n",
      "Mean 5-way accuracy (k-prototype = 50): 0.7295880149812735, std: 0.015340268014270589\n",
      "Mean 5-way accuracy (k-prototype = 75): 0.7298347107438017, std: 0.00871851864983833\n",
      "Mean 5-way accuracy (k-prototype = 100): 0.7354838709677419, std: 0.008191884255590405\n",
      "Saved Triplet Loss metrics to metrics.json\n"
     ]
    }
   ],
   "source": [
    "from core.util import save_n_way_k_prototype_accuracy\n",
    "\n",
    "save_n_way_k_prototype_accuracy(\n",
    "    x_test,\n",
    "    y_test,\n",
    "    snn_encoder,\n",
    "    METRICS_FILEPATH,\n",
    "    \"Triplet Loss\"\n",
    ")"
   ]
  },
  {
   "cell_type": "markdown",
   "metadata": {},
   "source": [
    "Unsurprisingly, the confusion matrix looks better when using prototypes, but it still shows all the known problems:"
   ]
  },
  {
   "cell_type": "code",
   "execution_count": 16,
   "metadata": {},
   "outputs": [
    {
     "data": {
      "image/png": "[encoded data removed]",
      "text/plain": [
       "<Figure size 500x500 with 1 Axes>"
      ]
     },
     "metadata": {},
     "output_type": "display_data"
    }
   ],
   "source": [
    "y_true, y_pred, _, _, _, _ = evaluate_n_way_accuracy(\n",
    "    x_test,\n",
    "    y_test,\n",
    "    snn_encoder,\n",
    "    k_prototype=10,\n",
    "    iterations=10\n",
    ")\n",
    "\n",
    "visualize_confusion_matrix(\n",
    "    y_true, y_pred,\n",
    "    str_test_labels,\n",
    "    f\"{FIG_DIR}/triplet_loss_conf_matrix_k10.svg\"\n",
    ")"
   ]
  },
  {
   "cell_type": "markdown",
   "metadata": {},
   "source": [
    "Finally, we'll visualize the Triplet Loss model's embedding space:"
   ]
  },
  {
   "cell_type": "code",
   "execution_count": 17,
   "metadata": {},
   "outputs": [
    {
     "name": "stdout",
     "output_type": "stream",
     "text": [
      "50/50 [==============================] - 0s 958us/step\n"
     ]
    }
   ],
   "source": [
    "# Get embeddings for the test data\n",
    "embeddings = snn_encoder.predict(x_test)"
   ]
  },
  {
   "cell_type": "code",
   "execution_count": 18,
   "metadata": {},
   "outputs": [
    {
     "name": "stdout",
     "output_type": "stream",
     "text": [
      "[t-SNE] Computing 91 nearest neighbors...\n",
      "[t-SNE] Indexed 1585 samples in 0.000s...\n",
      "[t-SNE] Computed neighbors for 1585 samples in 0.318s...\n",
      "[t-SNE] Computed conditional probabilities for sample 1000 / 1585\n",
      "[t-SNE] Computed conditional probabilities for sample 1585 / 1585\n",
      "[t-SNE] Mean sigma: 0.001232\n",
      "[t-SNE] KL divergence after 250 iterations with early exaggeration: 51.130238\n",
      "[t-SNE] KL divergence after 1000 iterations: 0.283937\n"
     ]
    }
   ],
   "source": [
    "from sklearn.manifold import TSNE\n",
    "\n",
    "# Fit T-SNE on embeddings\n",
    "tsne = TSNE(n_components=2, random_state=42, verbose=1)\n",
    "reduced_embeddings = tsne.fit_transform(embeddings)"
   ]
  },
  {
   "cell_type": "markdown",
   "metadata": {},
   "source": [
    "Again, the confusion matrix is reflected in the model's embeddings:"
   ]
  },
  {
   "cell_type": "markdown",
   "metadata": {},
   "source": [
    "We can again see a large overlap for \"u\" and \"v\" samples, with an additional overlapping are for all classes in the middle:"
   ]
  },
  {
   "cell_type": "code",
   "execution_count": 19,
   "metadata": {},
   "outputs": [
    {
     "data": {
      "image/png": "[encoded data removed]",
      "text/plain": [
       "<Figure size 700x400 with 1 Axes>"
      ]
     },
     "metadata": {},
     "output_type": "display_data"
    }
   ],
   "source": [
    "from core.viz import visualize_embeddings\n",
    "\n",
    "# Visualize embeddings in scatter plot\n",
    "visualize_embeddings(\n",
    "    reduced_embeddings,\n",
    "    y_test,\n",
    "    label_map,\n",
    "    f\"{FIG_DIR}/triplet_loss_embeddings.svg\"\n",
    ")"
   ]
  },
  {
   "cell_type": "markdown",
   "metadata": {},
   "source": [
    "It's difficult to tell if this subpar performance is due to Contrastive Loss itself or the tuner being unable to find a more optimal configuration, since we could observe lots of tuner trials showing no model convergence at all.\n",
    "\n",
    "Additionally, when running classification, we won't be comparing against a single negative but multiple negative samples.\n",
    "Maybe a loss function that takes this into account, such as [Multi-Class N-Pair Loss](./n_pair_loss.ipynb), might help improve our model's One-Shot classification performance?"
   ]
  }
 ],
 "metadata": {
  "kernelspec": {
   "display_name": "venv",
   "language": "python",
   "name": "python3"
  },
  "language_info": {
   "codemirror_mode": {
    "name": "ipython",
    "version": 3
   },
   "file_extension": ".py",
   "mimetype": "text/x-python",
   "name": "python",
   "nbconvert_exporter": "python",
   "pygments_lexer": "ipython3",
   "version": "3.10.11"
  }
 },
 "nbformat": 4,
 "nbformat_minor": 2
}
