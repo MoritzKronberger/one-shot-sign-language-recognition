{
 "cells": [
  {
   "cell_type": "markdown",
   "metadata": {},
   "source": [
    "# Triplet Loss"
   ]
  },
  {
   "cell_type": "code",
   "execution_count": 1,
   "metadata": {},
   "outputs": [],
   "source": [
    "# Create output directories if nor exist\n",
    "from pathlib import Path\n",
    "\n",
    "MODEL_DIR = \"models\"\n",
    "FIG_DIR = \"figures\"\n",
    "\n",
    "Path(MODEL_DIR).mkdir(parents=True, exist_ok=True)\n",
    "Path(FIG_DIR).mkdir(parents=True, exist_ok=True)"
   ]
  },
  {
   "cell_type": "markdown",
   "metadata": {},
   "source": [
    "With Contrastive Loss, our model was struggling to push apart embeddings far enough to allow for reliable differentiation of hard pairings.\n",
    "\n",
    "Triplet Loss aims to fix this. Instead of comparing the reference (anchor) image to a single positive or negative sample, the anchor image is always compared against a positive **and** negative sample."
   ]
  },
  {
   "cell_type": "markdown",
   "metadata": {},
   "source": [
    "Let's use TensorFlow's `TripletSemiHardLoss` to explore triplet loss.\n",
    "\n",
    "For implementations of Triplet Loss the Siamese Network Architecture is usually interpreted a bit more loosely:\n",
    "Instead of defining a model with multiple inputs, shared weights and a distance layer, a model with a single input is used and the distances are computed and compared for the model outputs within a whole batch."
   ]
  },
  {
   "cell_type": "code",
   "execution_count": 2,
   "metadata": {},
   "outputs": [
    {
     "name": "stdout",
     "output_type": "stream",
     "text": [
      "Warning: Your Kaggle API key is readable by other users on this system! To fix this, you can run 'chmod 600 /Users/moritz/.kaggle/kaggle.json'\n"
     ]
    }
   ],
   "source": [
    "from core.dataset import DGSAlphabet\n",
    "\n",
    "TEST_LABELS = ['u', 'v', 'w', 'x', 'y']\n",
    "\n",
    "# Import the dataset\n",
    "dataset = DGSAlphabet()\n",
    "categorical_dataset = dataset.load_categorical_numeric(\n",
    "    exclusive_test_labels=TEST_LABELS\n",
    ")\n",
    "x_train = categorical_dataset.x_train\n",
    "y_train = categorical_dataset.y_train\n",
    "x_test = categorical_dataset.x_test\n",
    "y_test = categorical_dataset.y_test\n",
    "label_map = categorical_dataset.label_map"
   ]
  },
  {
   "cell_type": "markdown",
   "metadata": {},
   "source": [
    "We'll instantiate our encoder as always, but append a L2 Normalization layer since it is required for the TFA implementation of Triplet Loss.\n",
    "\n",
    "To give the model the best shot at success we'll use Keras Tuner once again."
   ]
  },
  {
   "cell_type": "code",
   "execution_count": 3,
   "metadata": {},
   "outputs": [
    {
     "name": "stderr",
     "output_type": "stream",
     "text": [
      "/Users/moritz/Documents/Hochschule Augsburg/Semester 2 - Master/Data Science/project/venv/lib/python3.10/site-packages/tensorflow_addons/utils/tfa_eol_msg.py:23: UserWarning: \n",
      "\n",
      "TensorFlow Addons (TFA) has ended development and introduction of new features.\n",
      "TFA has entered a minimal maintenance and release mode until a planned end of life in May 2024.\n",
      "Please modify downstream libraries to take dependencies from other repositories in our TensorFlow community (e.g. Keras, Keras-CV, and Keras-NLP). \n",
      "\n",
      "For more information see: https://github.com/tensorflow/addons/issues/2807 \n",
      "\n",
      "  warnings.warn(\n"
     ]
    }
   ],
   "source": [
    "from tensorflow_addons.losses import TripletSemiHardLoss\n",
    "from core.util import new_SNN_builder\n",
    "\n",
    "# Create model builder for Keras Tuner\n",
    "build_model = new_SNN_builder(\n",
    "    mode=\"encoder_l2\",\n",
    "    loss=TripletSemiHardLoss(\n",
    "        margin=1.0,\n",
    "        distance_metric=\"angular\"\n",
    "    )\n",
    ")"
   ]
  },
  {
   "cell_type": "code",
   "execution_count": 4,
   "metadata": {},
   "outputs": [],
   "source": [
    "# Tuning Hyperparameters\n",
    "# https://keras.io/api/keras_tuner/tuners/hyperband\n",
    "MAX_EPOCHS = 200\n",
    "FACTOR = 3\n",
    "HYPERBAND_ITERATIONS = 1\n",
    "SEED = 42\n",
    "VAL_SPLIT = 0.2\n",
    "\n",
    "# Where to save tuner checkpoints\n",
    "TUNER_DIR = \"tuner\"\n",
    "PROJECT = \"triplet_loss\""
   ]
  },
  {
   "cell_type": "code",
   "execution_count": 5,
   "metadata": {},
   "outputs": [
    {
     "name": "stderr",
     "output_type": "stream",
     "text": [
      "WARNING:absl:At this time, the v2.11+ optimizer `tf.keras.optimizers.Adam` runs slowly on M1/M2 Macs, please use the legacy Keras optimizer instead, located at `tf.keras.optimizers.legacy.Adam`.\n"
     ]
    },
    {
     "name": "stdout",
     "output_type": "stream",
     "text": [
      "Search space summary\n",
      "Default search space size: 7\n",
      "dense_count (Int)\n",
      "{'default': None, 'conditions': [], 'min_value': 2, 'max_value': 10, 'step': 2, 'sampling': 'linear'}\n",
      "dense_base (Int)\n",
      "{'default': None, 'conditions': [], 'min_value': 8, 'max_value': 64, 'step': 8, 'sampling': 'linear'}\n",
      "encoder_dropout (Boolean)\n",
      "{'default': False, 'conditions': []}\n",
      "start_lr (Float)\n",
      "{'default': 5e-05, 'conditions': [], 'min_value': 5e-05, 'max_value': 0.001, 'step': 5e-05, 'sampling': 'linear'}\n",
      "beta_1 (Float)\n",
      "{'default': 0.7, 'conditions': [], 'min_value': 0.7, 'max_value': 0.9, 'step': 0.1, 'sampling': 'linear'}\n",
      "beta_2 (Float)\n",
      "{'default': 0.99, 'conditions': [], 'min_value': 0.99, 'max_value': 0.999, 'step': 0.001, 'sampling': 'linear'}\n",
      "epsilon (Float)\n",
      "{'default': 0.001, 'conditions': [], 'min_value': 0.001, 'max_value': 0.01, 'step': 0.001, 'sampling': 'linear'}\n"
     ]
    }
   ],
   "source": [
    "import keras_tuner\n",
    "\n",
    "tuner = keras_tuner.Hyperband(\n",
    "    hypermodel=build_model,\n",
    "    objective=\"val_loss\",\n",
    "    max_epochs=MAX_EPOCHS,\n",
    "    factor=FACTOR,\n",
    "    hyperband_iterations=HYPERBAND_ITERATIONS,\n",
    "    seed=SEED,\n",
    "    directory=TUNER_DIR,\n",
    "    project_name=PROJECT\n",
    ")\n",
    "\n",
    "tuner.search_space_summary()"
   ]
  },
  {
   "cell_type": "markdown",
   "metadata": {},
   "source": [
    "We'll use the same callbacks as for the Contrastive Loss training."
   ]
  },
  {
   "cell_type": "code",
   "execution_count": 6,
   "metadata": {},
   "outputs": [],
   "source": [
    "from core.util import new_default_callbacks\n",
    "\n",
    "from core.util import new_default_callbacks, TunerHistoryCallback\n",
    "\n",
    "# Reduce learning rate if no improvement is made\n",
    "reduce_lr, early_stop = new_default_callbacks(\n",
    "    monitor=\"val_loss\",\n",
    "    mode=\"min\",\n",
    "    lr_reduce_factor=0.2,\n",
    "    lr_reduce_patience=10,\n",
    "    early_stopping_start=10,\n",
    "    early_stopping_patience=20,\n",
    "    verbose=1\n",
    ")\n",
    "\n",
    "# Keep track of histories for every tuner trial\n",
    "tuner_history_cb = TunerHistoryCallback(tuner)"
   ]
  },
  {
   "cell_type": "code",
   "execution_count": 7,
   "metadata": {},
   "outputs": [
    {
     "name": "stdout",
     "output_type": "stream",
     "text": [
      "Trial 252 Complete [00h 00m 32s]\n",
      "val_loss: 0.8241050243377686\n",
      "\n",
      "Best val_loss So Far: 0.10158593952655792\n",
      "Total elapsed time: 03h 36m 03s\n"
     ]
    }
   ],
   "source": [
    "tuner.search(\n",
    "    x_train, \n",
    "    y_train,\n",
    "    validation_split=VAL_SPLIT,\n",
    "    callbacks=[reduce_lr, early_stop, tuner_history_cb]\n",
    ")"
   ]
  },
  {
   "cell_type": "code",
   "execution_count": 8,
   "metadata": {},
   "outputs": [
    {
     "name": "stdout",
     "output_type": "stream",
     "text": [
      "Results summary\n",
      "Results in tuner/triplet_loss\n",
      "Showing 10 best trials\n",
      "Objective(name=\"val_loss\", direction=\"min\")\n",
      "\n",
      "Trial 0246 summary\n",
      "Hyperparameters:\n",
      "dense_count: 4\n",
      "dense_base: 48\n",
      "encoder_dropout: False\n",
      "start_lr: 0.0007000000000000001\n",
      "beta_1: 0.7\n",
      "beta_2: 0.998\n",
      "epsilon: 0.001\n",
      "tuner/epochs: 200\n",
      "tuner/initial_epoch: 0\n",
      "tuner/bracket: 0\n",
      "tuner/round: 0\n",
      "Score: 0.10158593952655792\n",
      "\n",
      "Trial 0233 summary\n",
      "Hyperparameters:\n",
      "dense_count: 6\n",
      "dense_base: 64\n",
      "encoder_dropout: False\n",
      "start_lr: 0.0007000000000000001\n",
      "beta_1: 0.7999999999999999\n",
      "beta_2: 0.992\n",
      "epsilon: 0.008\n",
      "tuner/epochs: 200\n",
      "tuner/initial_epoch: 67\n",
      "tuner/bracket: 2\n",
      "tuner/round: 2\n",
      "tuner/trial_id: 0226\n",
      "Score: 0.13295254111289978\n",
      "\n",
      "Trial 0232 summary\n",
      "Hyperparameters:\n",
      "dense_count: 10\n",
      "dense_base: 40\n",
      "encoder_dropout: False\n",
      "start_lr: 0.0004\n",
      "beta_1: 0.7\n",
      "beta_2: 0.998\n",
      "epsilon: 0.010000000000000002\n",
      "tuner/epochs: 200\n",
      "tuner/initial_epoch: 67\n",
      "tuner/bracket: 2\n",
      "tuner/round: 2\n",
      "tuner/trial_id: 0229\n",
      "Score: 0.14004473388195038\n",
      "\n",
      "Trial 0206 summary\n",
      "Hyperparameters:\n",
      "dense_count: 6\n",
      "dense_base: 64\n",
      "encoder_dropout: False\n",
      "start_lr: 0.00035000000000000005\n",
      "beta_1: 0.7\n",
      "beta_2: 0.997\n",
      "epsilon: 0.001\n",
      "tuner/epochs: 200\n",
      "tuner/initial_epoch: 67\n",
      "tuner/bracket: 3\n",
      "tuner/round: 3\n",
      "tuner/trial_id: 0202\n",
      "Score: 0.14673341810703278\n",
      "\n",
      "Trial 0244 summary\n",
      "Hyperparameters:\n",
      "dense_count: 6\n",
      "dense_base: 32\n",
      "encoder_dropout: True\n",
      "start_lr: 0.00030000000000000003\n",
      "beta_1: 0.7999999999999999\n",
      "beta_2: 0.993\n",
      "epsilon: 0.002\n",
      "tuner/epochs: 200\n",
      "tuner/initial_epoch: 67\n",
      "tuner/bracket: 1\n",
      "tuner/round: 1\n",
      "tuner/trial_id: 0241\n",
      "Score: 0.1469009667634964\n",
      "\n",
      "Trial 0207 summary\n",
      "Hyperparameters:\n",
      "dense_count: 8\n",
      "dense_base: 40\n",
      "encoder_dropout: False\n",
      "start_lr: 0.00045000000000000004\n",
      "beta_1: 0.7999999999999999\n",
      "beta_2: 0.993\n",
      "epsilon: 0.009000000000000001\n",
      "tuner/epochs: 200\n",
      "tuner/initial_epoch: 67\n",
      "tuner/bracket: 3\n",
      "tuner/round: 3\n",
      "tuner/trial_id: 0205\n",
      "Score: 0.15094155073165894\n",
      "\n",
      "Trial 0145 summary\n",
      "Hyperparameters:\n",
      "dense_count: 8\n",
      "dense_base: 56\n",
      "encoder_dropout: False\n",
      "start_lr: 0.00030000000000000003\n",
      "beta_1: 0.7999999999999999\n",
      "beta_2: 0.991\n",
      "epsilon: 0.005\n",
      "tuner/epochs: 200\n",
      "tuner/initial_epoch: 67\n",
      "tuner/bracket: 4\n",
      "tuner/round: 4\n",
      "tuner/trial_id: 0143\n",
      "Score: 0.15575654804706573\n",
      "\n",
      "Trial 0248 summary\n",
      "Hyperparameters:\n",
      "dense_count: 6\n",
      "dense_base: 56\n",
      "encoder_dropout: False\n",
      "start_lr: 0.0001\n",
      "beta_1: 0.7999999999999999\n",
      "beta_2: 0.999\n",
      "epsilon: 0.002\n",
      "tuner/epochs: 200\n",
      "tuner/initial_epoch: 0\n",
      "tuner/bracket: 0\n",
      "tuner/round: 0\n",
      "Score: 0.15694387257099152\n",
      "\n",
      "Trial 0202 summary\n",
      "Hyperparameters:\n",
      "dense_count: 6\n",
      "dense_base: 64\n",
      "encoder_dropout: False\n",
      "start_lr: 0.00035000000000000005\n",
      "beta_1: 0.7\n",
      "beta_2: 0.997\n",
      "epsilon: 0.001\n",
      "tuner/epochs: 67\n",
      "tuner/initial_epoch: 23\n",
      "tuner/bracket: 3\n",
      "tuner/round: 2\n",
      "tuner/trial_id: 0190\n",
      "Score: 0.15950405597686768\n",
      "\n",
      "Trial 0247 summary\n",
      "Hyperparameters:\n",
      "dense_count: 4\n",
      "dense_base: 56\n",
      "encoder_dropout: True\n",
      "start_lr: 0.0009500000000000001\n",
      "beta_1: 0.7999999999999999\n",
      "beta_2: 0.995\n",
      "epsilon: 0.010000000000000002\n",
      "tuner/epochs: 200\n",
      "tuner/initial_epoch: 0\n",
      "tuner/bracket: 0\n",
      "tuner/round: 0\n",
      "Score: 0.15982939302921295\n"
     ]
    }
   ],
   "source": [
    "tuner.results_summary()"
   ]
  },
  {
   "cell_type": "markdown",
   "metadata": {},
   "source": [
    "Since we want convenient access to the model's encoder part, we'll re-instantiate the model with the best architecture and transfer the best model's weights:"
   ]
  },
  {
   "cell_type": "code",
   "execution_count": 9,
   "metadata": {},
   "outputs": [
    {
     "name": "stderr",
     "output_type": "stream",
     "text": [
      "WARNING:absl:At this time, the v2.11+ optimizer `tf.keras.optimizers.Adam` runs slowly on M1/M2 Macs, please use the legacy Keras optimizer instead, located at `tf.keras.optimizers.legacy.Adam`.\n",
      "WARNING:absl:At this time, the v2.11+ optimizer `tf.keras.optimizers.Adam` runs slowly on M1/M2 Macs, please use the legacy Keras optimizer instead, located at `tf.keras.optimizers.legacy.Adam`.\n"
     ]
    },
    {
     "name": "stdout",
     "output_type": "stream",
     "text": [
      "Model: \"encoder_l2\"\n",
      "_________________________________________________________________\n",
      " Layer (type)                Output Shape              Param #   \n",
      "=================================================================\n",
      " Landmark_Input (InputLayer  [(None, 21, 3)]           0         \n",
      " )                                                               \n",
      "                                                                 \n",
      " Layer_Norm (LayerNormaliza  (None, 21, 3)             6         \n",
      " tion)                                                           \n",
      "                                                                 \n",
      " Flatten_Landmarks (Flatten  (None, 63)                0         \n",
      " )                                                               \n",
      "                                                                 \n",
      " Dense_1 (Dense)             (None, 768)               49152     \n",
      "                                                                 \n",
      " Dense_2 (Dense)             (None, 432)               332208    \n",
      "                                                                 \n",
      " Dense_3 (Dense)             (None, 192)               83136     \n",
      "                                                                 \n",
      " Dense_4 (Dense)             (None, 48)                9264      \n",
      "                                                                 \n",
      " lambda_1 (Lambda)           (None, 48)                0         \n",
      "                                                                 \n",
      "=================================================================\n",
      "Total params: 473766 (1.81 MB)\n",
      "Trainable params: 473766 (1.81 MB)\n",
      "Non-trainable params: 0 (0.00 Byte)\n",
      "_________________________________________________________________\n"
     ]
    }
   ],
   "source": [
    "# Get history of best model training\n",
    "best_trial = tuner.oracle.get_best_trials(1)[0]\n",
    "best_model_history = tuner_history_cb.get_trial_history(\n",
    "    best_trial.trial_id\n",
    ")\n",
    "\n",
    "# Get weights of best model\n",
    "best_model = tuner.get_best_models(1)[0]\n",
    "best_weights = best_model.weights\n",
    "\n",
    "# Re-create best architecture\n",
    "best_hyper_params = tuner.get_best_hyperparameters(1)[0]\n",
    "snn_encoder, siamese_snn = build_model(best_hyper_params, get_encoder=True)\n",
    "siamese_snn.set_weights(best_weights)\n",
    "\n",
    "siamese_snn.summary()"
   ]
  },
  {
   "cell_type": "markdown",
   "metadata": {},
   "source": [
    "Let's save the best model and take a look at its training history:"
   ]
  },
  {
   "cell_type": "code",
   "execution_count": 10,
   "metadata": {},
   "outputs": [],
   "source": [
    "from pathlib import Path\n",
    "\n",
    "MODEL_DIR = \"models\"\n",
    "Path(MODEL_DIR).mkdir(parents=True, exist_ok=True)\n",
    "\n",
    "siamese_snn.save(f\"{MODEL_DIR}/triplet_loss.keras\")"
   ]
  },
  {
   "cell_type": "code",
   "execution_count": 11,
   "metadata": {},
   "outputs": [
    {
     "data": {
      "image/png": "[encoded data removed]",
      "text/plain": [
       "<Figure size 500x300 with 1 Axes>"
      ]
     },
     "metadata": {},
     "output_type": "display_data"
    }
   ],
   "source": [
    "from core.viz import visualize_history\n",
    "\n",
    "visualize_history(\n",
    "    best_model_history,\n",
    "    [\"loss\"],\n",
    "    \"Triplet Loss\",\n",
    "    f\"{FIG_DIR}/triplet_loss_history.svg\"\n",
    ")"
   ]
  },
  {
   "cell_type": "markdown",
   "metadata": {},
   "source": [
    "Our accuracy on new signs however, seems significantly worse than with Contrastive Loss (at least in absolute loss numbers):"
   ]
  },
  {
   "cell_type": "code",
   "execution_count": 12,
   "metadata": {},
   "outputs": [
    {
     "name": "stdout",
     "output_type": "stream",
     "text": [
      "++++++++++++ Test data ++++++++++++\n",
      "loss=0.8102\n"
     ]
    }
   ],
   "source": [
    "# And evaluate the model on test data\n",
    "loss = siamese_snn.evaluate(x_test, y_test, verbose=0)\n",
    "print(f'++++++++++++ Test data ++++++++++++\\nloss={loss:.4f}')"
   ]
  },
  {
   "cell_type": "markdown",
   "metadata": {},
   "source": [
    "Evaluating the model on One-Shot classification unfortunately shows the same trend:"
   ]
  },
  {
   "cell_type": "code",
   "execution_count": 13,
   "metadata": {},
   "outputs": [
    {
     "name": "stdout",
     "output_type": "stream",
     "text": [
      "50/50 [==============================] - 0s 699us/step\n",
      "Mean 5-way accuracy: 0.6079746835443038\n",
      "Min 5-way accuracy: 0.4936708860759494\n",
      "Max 5-way accuracy: 0.6810126582278481\n",
      "5-way accuracy std.: 0.06357795770277734\n"
     ]
    }
   ],
   "source": [
    "from core.util import evaluate_n_way_accuracy\n",
    "\n",
    "\n",
    "y_true, y_pred, mean_acc, min_acc, max_acc, std = evaluate_n_way_accuracy(\n",
    "    x_test,\n",
    "    y_test,\n",
    "    snn_encoder,\n",
    "    k_prototype=1,\n",
    "    iterations=10\n",
    ")\n",
    "\n",
    "print(\n",
    "    f\"Mean 5-way accuracy: {mean_acc}\\n\"\n",
    "    f\"Min 5-way accuracy: {min_acc}\\n\"\n",
    "    f\"Max 5-way accuracy: {max_acc}\\n\"\n",
    "    f\"5-way accuracy std.: {std}\"\n",
    ")"
   ]
  },
  {
   "cell_type": "code",
   "execution_count": 14,
   "metadata": {},
   "outputs": [
    {
     "name": "stdout",
     "output_type": "stream",
     "text": [
      "50/50 [==============================] - 0s 711us/step\n",
      "Mean 5-way accuracy (k-prototype = 1): 0.6079746835443038, std: 0.06357795770277734\n",
      "50/50 [==============================] - 0s 701us/step\n",
      "Mean 5-way accuracy (k-prototype = 3): 0.6540127388535031, std: 0.06878202362172792\n",
      "50/50 [==============================] - 0s 697us/step\n",
      "Mean 5-way accuracy (k-prototype = 5): 0.7123076923076923, std: 0.034026085441419746\n",
      "50/50 [==============================] - 0s 681us/step\n",
      "Mean 5-way accuracy (k-prototype = 10): 0.7336807817589577, std: 0.021970533124513386\n",
      "50/50 [==============================] - 0s 687us/step\n",
      "Mean 5-way accuracy (k-prototype = 15): 0.730728476821192, std: 0.0103158317767527\n",
      "50/50 [==============================] - 0s 699us/step\n",
      "Mean 5-way accuracy (k-prototype = 20): 0.7296969696969697, std: 0.009870317392902506\n",
      "50/50 [==============================] - 0s 760us/step\n",
      "Mean 5-way accuracy (k-prototype = 50): 0.7295880149812735, std: 0.015340268014270589\n",
      "50/50 [==============================] - 0s 669us/step\n",
      "Mean 5-way accuracy (k-prototype = 75): 0.7298347107438017, std: 0.00871851864983833\n",
      "50/50 [==============================] - 0s 688us/step\n",
      "Mean 5-way accuracy (k-prototype = 100): 0.7354838709677419, std: 0.008191884255590405\n"
     ]
    }
   ],
   "source": [
    "k_prototype = [1, 3, 5, 10, 15, 20, 50, 75, 100]\n",
    "\n",
    "for k in k_prototype:\n",
    "    _, _, n_way_acc_pk, _, _, std = evaluate_n_way_accuracy(\n",
    "        x_test,\n",
    "        y_test,\n",
    "        snn_encoder,\n",
    "        k_prototype=k,\n",
    "        iterations=10\n",
    "    )\n",
    "\n",
    "    print(\n",
    "        f\"Mean 5-way accuracy (k-prototype = {k}): {n_way_acc_pk}, std: {std}\"\n",
    "    )"
   ]
  },
  {
   "cell_type": "code",
   "execution_count": 15,
   "metadata": {},
   "outputs": [
    {
     "data": {
      "image/png": "[encoded data removed]",
      "text/plain": [
       "<Figure size 500x500 with 1 Axes>"
      ]
     },
     "metadata": {},
     "output_type": "display_data"
    }
   ],
   "source": [
    "from core.viz import visualize_confusion_matrix\n",
    "\n",
    "unique_test_labels = list(set(y_test))\n",
    "reverse_label_map = {int_lbl: str_lbl for str_lbl, int_lbl in label_map.items()}\n",
    "str_test_labels = [reverse_label_map[lbl] for lbl in unique_test_labels]\n",
    "\n",
    "visualize_confusion_matrix(\n",
    "    y_true, y_pred,\n",
    "    str_test_labels,\n",
    "    f\"{FIG_DIR}/triplet_loss_conf_matrix.svg\"\n",
    ")"
   ]
  },
  {
   "cell_type": "code",
   "execution_count": 16,
   "metadata": {},
   "outputs": [
    {
     "name": "stdout",
     "output_type": "stream",
     "text": [
      "50/50 [==============================] - 0s 859us/step\n"
     ]
    }
   ],
   "source": [
    "# Get embeddings for the test data\n",
    "embeddings = snn_encoder.predict(x_test)"
   ]
  },
  {
   "cell_type": "code",
   "execution_count": 17,
   "metadata": {},
   "outputs": [
    {
     "name": "stdout",
     "output_type": "stream",
     "text": [
      "[t-SNE] Computing 91 nearest neighbors...\n",
      "[t-SNE] Indexed 1585 samples in 0.000s...\n",
      "[t-SNE] Computed neighbors for 1585 samples in 0.364s...\n",
      "[t-SNE] Computed conditional probabilities for sample 1000 / 1585\n",
      "[t-SNE] Computed conditional probabilities for sample 1585 / 1585\n",
      "[t-SNE] Mean sigma: 0.001232\n",
      "[t-SNE] KL divergence after 250 iterations with early exaggeration: 51.130238\n",
      "[t-SNE] KL divergence after 1000 iterations: 0.283937\n"
     ]
    }
   ],
   "source": [
    "from sklearn.manifold import TSNE\n",
    "\n",
    "# Fit T-SNE on embeddings\n",
    "tsne = TSNE(n_components=2, random_state=42, verbose=1)\n",
    "reduced_embeddings = tsne.fit_transform(embeddings)"
   ]
  },
  {
   "cell_type": "markdown",
   "metadata": {},
   "source": [
    "Again, the confusion matrix is reflected in the model's embeddings:"
   ]
  },
  {
   "cell_type": "code",
   "execution_count": 18,
   "metadata": {},
   "outputs": [
    {
     "data": {
      "image/png": "[encoded data removed]",
      "text/plain": [
       "<Figure size 500x300 with 1 Axes>"
      ]
     },
     "metadata": {},
     "output_type": "display_data"
    }
   ],
   "source": [
    "from core.viz import visualize_embeddings\n",
    "\n",
    "# Visualize embeddings in scatter plot\n",
    "visualize_embeddings(\n",
    "    reduced_embeddings,\n",
    "    y_test,\n",
    "    label_map,\n",
    "    f\"{FIG_DIR}/triplet_loss_embeddings.svg\"\n",
    ")"
   ]
  }
 ],
 "metadata": {
  "kernelspec": {
   "display_name": "venv",
   "language": "python",
   "name": "python3"
  },
  "language_info": {
   "codemirror_mode": {
    "name": "ipython",
    "version": 3
   },
   "file_extension": ".py",
   "mimetype": "text/x-python",
   "name": "python",
   "nbconvert_exporter": "python",
   "pygments_lexer": "ipython3",
   "version": "3.10.11"
  }
 },
 "nbformat": 4,
 "nbformat_minor": 2
}
