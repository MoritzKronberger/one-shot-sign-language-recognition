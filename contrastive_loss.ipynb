{
 "cells": [
  {
   "cell_type": "markdown",
   "metadata": {},
   "source": [
    "# Contrastive Loss"
   ]
  },
  {
   "cell_type": "markdown",
   "metadata": {},
   "source": [
    "## Siamese Neural Networks\n",
    "\n",
    "A popular approach for estimating sample similarity are **Siamese Neural Networks**.\n",
    "\n",
    "They are made up of two (or more) Neural Networks which share identical weights.\n",
    "If the embeddings produced for two different samples are similar, these two samples are considered to be similar (and vice versa)."
   ]
  },
  {
   "cell_type": "markdown",
   "metadata": {},
   "source": [
    "## Contrastive Loss\n",
    "\n",
    "The objective of Siamese Neural Networks is to maximize the distance between embeddings for dissimilar inputs while minimizing the distance between embeddings for similar ones.\n",
    "\n",
    "A simple loss function for this objective is **Contrastive Loss**.\n",
    "\n",
    "Contrastive loss is defined as follows:\n",
    "\n",
    "$$L^m_\\text{cont}(x_i, x_j; f) = \\{y_i = y_j\\} \\cdot {||f_i - f_j||}_2^2 + \\{y_i \\neq y_j\\} \\cdot \\text{max}(0, m - ||f_i - f_j||_2^2)$$\n",
    "\n",
    "where $m$ is a margin parameter which imposes the distance between negative examples to be larger than $m$.\n",
    "\n",
    "In practice the distance between the embeddings $f_i$ and $f_j$ is often computed as the euclidean or cosine distance."
   ]
  },
  {
   "cell_type": "markdown",
   "metadata": {},
   "source": [
    "Let's see if we can train our sign language detection model using Contrastive Loss."
   ]
  },
  {
   "cell_type": "markdown",
   "metadata": {},
   "source": [
    "Since our reason for using contrastive learning was to apply our model to previously unseen signs, let's exclude our test signs entirely from the trainign data."
   ]
  },
  {
   "cell_type": "markdown",
   "metadata": {},
   "source": [
    "For contrastive learning our data must be present in pairs of matching and non-matching samples:"
   ]
  },
  {
   "cell_type": "markdown",
   "metadata": {},
   "source": [
    "Our labels now represent the distance between samples (0 if matching, 1 if non-matching)."
   ]
  },
  {
   "cell_type": "code",
   "execution_count": 1,
   "metadata": {},
   "outputs": [
    {
     "name": "stdout",
     "output_type": "stream",
     "text": [
      "Warning: Your Kaggle API key is readable by other users on this system! To fix this, you can run 'chmod 600 /Users/moritz/.kaggle/kaggle.json'\n"
     ]
    }
   ],
   "source": [
    "from core.dataset import DGSAlphabet\n",
    "\n",
    "TEST_LABELS = ['u', 'v', 'w', 'x', 'y']\n",
    "\n",
    "# Import the dataset\n",
    "dataset = DGSAlphabet()\n",
    "pair_dataset = dataset.load_pairs(\n",
    "    margin=1,\n",
    "    exclusive_test_labels=TEST_LABELS\n",
    ")\n",
    "\n",
    "x_train_1 = pair_dataset.x_train_1\n",
    "x_train_2 = pair_dataset.x_train_2\n",
    "labels_train = pair_dataset.y_train\n",
    "\n",
    "\n",
    "x_test_1 = pair_dataset.x_test_1\n",
    "x_test_2 = pair_dataset.x_test_2\n",
    "labels_test = pair_dataset.y_test"
   ]
  },
  {
   "cell_type": "markdown",
   "metadata": {},
   "source": [
    "For our Siamese Neural Network we want to use the same original model's encoder, but twice with shared weights. We'll use the euclidean distance as our model's distance metric.\n",
    "\n",
    "To give the model the best shot at success we'll use Keras Tuner once again."
   ]
  },
  {
   "cell_type": "code",
   "execution_count": 2,
   "metadata": {},
   "outputs": [
    {
     "name": "stderr",
     "output_type": "stream",
     "text": [
      "/Users/moritz/Documents/Hochschule Augsburg/Semester 2 - Master/Data Science/project/venv/lib/python3.10/site-packages/tensorflow_addons/utils/tfa_eol_msg.py:23: UserWarning: \n",
      "\n",
      "TensorFlow Addons (TFA) has ended development and introduction of new features.\n",
      "TFA has entered a minimal maintenance and release mode until a planned end of life in May 2024.\n",
      "Please modify downstream libraries to take dependencies from other repositories in our TensorFlow community (e.g. Keras, Keras-CV, and Keras-NLP). \n",
      "\n",
      "For more information see: https://github.com/tensorflow/addons/issues/2807 \n",
      "\n",
      "  warnings.warn(\n"
     ]
    }
   ],
   "source": [
    "from core.util import new_SNN_builder\n",
    "from core.loss import new_contrastive_loss\n",
    "from core.distance import euclidean_distance\n",
    "\n",
    "# Create model builder for Keras Tuner\n",
    "build_model = new_SNN_builder(\n",
    "    mode=\"siamese\",\n",
    "    loss=new_contrastive_loss(margin=1),\n",
    "    distance=euclidean_distance\n",
    ")"
   ]
  },
  {
   "cell_type": "code",
   "execution_count": 3,
   "metadata": {},
   "outputs": [],
   "source": [
    "# Tuning Hyperparameters\n",
    "# https://keras.io/api/keras_tuner/tuners/hyperband\n",
    "MAX_EPOCHS = 150\n",
    "FACTOR = 3\n",
    "HYPERBAND_ITERATIONS = 1\n",
    "SEED = 42\n",
    "VAL_SPLIT = 0.2\n",
    "\n",
    "# Where to save tuner checkpoints\n",
    "TUNER_DIR = \"tuner\"\n",
    "PROJECT = \"contrastive_loss\""
   ]
  },
  {
   "cell_type": "code",
   "execution_count": 4,
   "metadata": {},
   "outputs": [
    {
     "name": "stdout",
     "output_type": "stream",
     "text": [
      "Reloading Tuner from tuner/contrastive_loss/tuner0.json\n",
      "Search space summary\n",
      "Default search space size: 9\n",
      "dense_count (Int)\n",
      "{'default': None, 'conditions': [], 'min_value': 2, 'max_value': 10, 'step': 2, 'sampling': 'linear'}\n",
      "dense_base (Int)\n",
      "{'default': None, 'conditions': [], 'min_value': 8, 'max_value': 64, 'step': 8, 'sampling': 'linear'}\n",
      "encoder_dropout (Boolean)\n",
      "{'default': False, 'conditions': []}\n",
      "siamese_bn (Boolean)\n",
      "{'default': False, 'conditions': []}\n",
      "siamese_dropout (Boolean)\n",
      "{'default': False, 'conditions': []}\n",
      "start_lr (Float)\n",
      "{'default': 5e-05, 'conditions': [], 'min_value': 5e-05, 'max_value': 0.001, 'step': 5e-05, 'sampling': 'linear'}\n",
      "beta_1 (Float)\n",
      "{'default': 0.7, 'conditions': [], 'min_value': 0.7, 'max_value': 0.9, 'step': 0.1, 'sampling': 'linear'}\n",
      "beta_2 (Float)\n",
      "{'default': 0.99, 'conditions': [], 'min_value': 0.99, 'max_value': 0.999, 'step': 0.001, 'sampling': 'linear'}\n",
      "epsilon (Float)\n",
      "{'default': 0.001, 'conditions': [], 'min_value': 0.001, 'max_value': 0.01, 'step': 0.001, 'sampling': 'linear'}\n"
     ]
    }
   ],
   "source": [
    "import keras_tuner\n",
    "\n",
    "tuner = keras_tuner.Hyperband(\n",
    "    hypermodel=build_model,\n",
    "    objective=\"val_loss\",\n",
    "    max_epochs=MAX_EPOCHS,\n",
    "    factor=FACTOR,\n",
    "    hyperband_iterations=HYPERBAND_ITERATIONS,\n",
    "    seed=SEED,\n",
    "    directory=TUNER_DIR,\n",
    "    project_name=PROJECT\n",
    ")\n",
    "\n",
    "tuner.search_space_summary()"
   ]
  },
  {
   "cell_type": "code",
   "execution_count": 5,
   "metadata": {},
   "outputs": [
    {
     "name": "stdout",
     "output_type": "stream",
     "text": [
      "Loading history from JSON tuner/contrastive_loss/history.json\n"
     ]
    }
   ],
   "source": [
    "from core.util import new_default_callbacks, TunerHistoryCallback\n",
    "\n",
    "# Reduce learning rate if no improvement is made\n",
    "reduce_lr, early_stop = new_default_callbacks(\n",
    "    monitor=\"val_loss\",\n",
    "    mode=\"min\",\n",
    "    lr_reduce_factor=0.2,\n",
    "    lr_reduce_patience=5,\n",
    "    verbose=1\n",
    ")\n",
    "\n",
    "# Keep track of histories for every tuner trial\n",
    "tuner_history_cb = TunerHistoryCallback(tuner)"
   ]
  },
  {
   "cell_type": "markdown",
   "metadata": {},
   "source": [
    "An interesting experimental observation is that the contrastive model occasionally refuses to converge to any sort of optimum (= remains at random accuracy), especially when using larger learning rates."
   ]
  },
  {
   "cell_type": "code",
   "execution_count": 6,
   "metadata": {},
   "outputs": [],
   "source": [
    "tuner.search(\n",
    "    [x_train_1, x_train_2], \n",
    "    labels_train,\n",
    "    validation_split=VAL_SPLIT,\n",
    "    callbacks=[reduce_lr, early_stop, tuner_history_cb]\n",
    ")"
   ]
  },
  {
   "cell_type": "code",
   "execution_count": 7,
   "metadata": {},
   "outputs": [
    {
     "name": "stdout",
     "output_type": "stream",
     "text": [
      "Results summary\n",
      "Results in tuner/contrastive_loss\n",
      "Showing 10 best trials\n",
      "Objective(name=\"val_loss\", direction=\"min\")\n",
      "\n",
      "Trial 0234 summary\n",
      "Hyperparameters:\n",
      "dense_count: 8\n",
      "dense_base: 40\n",
      "encoder_dropout: False\n",
      "siamese_bn: True\n",
      "siamese_dropout: False\n",
      "start_lr: 0.0009000000000000001\n",
      "beta_1: 0.7\n",
      "beta_2: 0.994\n",
      "epsilon: 0.001\n",
      "tuner/epochs: 150\n",
      "tuner/initial_epoch: 50\n",
      "tuner/bracket: 2\n",
      "tuner/round: 2\n",
      "tuner/trial_id: 0228\n",
      "Score: 0.00955765601247549\n",
      "\n",
      "Trial 0146 summary\n",
      "Hyperparameters:\n",
      "dense_count: 8\n",
      "dense_base: 56\n",
      "encoder_dropout: False\n",
      "siamese_bn: True\n",
      "siamese_dropout: False\n",
      "start_lr: 0.0007000000000000001\n",
      "beta_1: 0.7999999999999999\n",
      "beta_2: 0.992\n",
      "epsilon: 0.003\n",
      "tuner/epochs: 150\n",
      "tuner/initial_epoch: 50\n",
      "tuner/bracket: 4\n",
      "tuner/round: 4\n",
      "tuner/trial_id: 0143\n",
      "Score: 0.012066235765814781\n",
      "\n",
      "Trial 0250 summary\n",
      "Hyperparameters:\n",
      "dense_count: 6\n",
      "dense_base: 24\n",
      "encoder_dropout: False\n",
      "siamese_bn: False\n",
      "siamese_dropout: True\n",
      "start_lr: 0.00075\n",
      "beta_1: 0.8999999999999999\n",
      "beta_2: 0.997\n",
      "epsilon: 0.004\n",
      "tuner/epochs: 150\n",
      "tuner/initial_epoch: 0\n",
      "tuner/bracket: 0\n",
      "tuner/round: 0\n",
      "Score: 0.012398176826536655\n",
      "\n",
      "Trial 0245 summary\n",
      "Hyperparameters:\n",
      "dense_count: 8\n",
      "dense_base: 24\n",
      "encoder_dropout: False\n",
      "siamese_bn: False\n",
      "siamese_dropout: True\n",
      "start_lr: 0.0008500000000000001\n",
      "beta_1: 0.8999999999999999\n",
      "beta_2: 0.993\n",
      "epsilon: 0.004\n",
      "tuner/epochs: 150\n",
      "tuner/initial_epoch: 50\n",
      "tuner/bracket: 1\n",
      "tuner/round: 1\n",
      "tuner/trial_id: 0244\n",
      "Score: 0.012746849097311497\n",
      "\n",
      "Trial 0209 summary\n",
      "Hyperparameters:\n",
      "dense_count: 10\n",
      "dense_base: 8\n",
      "encoder_dropout: False\n",
      "siamese_bn: True\n",
      "siamese_dropout: True\n",
      "start_lr: 0.00035000000000000005\n",
      "beta_1: 0.7\n",
      "beta_2: 0.998\n",
      "epsilon: 0.002\n",
      "tuner/epochs: 150\n",
      "tuner/initial_epoch: 50\n",
      "tuner/bracket: 3\n",
      "tuner/round: 3\n",
      "tuner/trial_id: 0203\n",
      "Score: 0.01274868194013834\n",
      "\n",
      "Trial 0252 summary\n",
      "Hyperparameters:\n",
      "dense_count: 8\n",
      "dense_base: 48\n",
      "encoder_dropout: False\n",
      "siamese_bn: True\n",
      "siamese_dropout: True\n",
      "start_lr: 0.00075\n",
      "beta_1: 0.7999999999999999\n",
      "beta_2: 0.999\n",
      "epsilon: 0.008\n",
      "tuner/epochs: 150\n",
      "tuner/initial_epoch: 0\n",
      "tuner/bracket: 0\n",
      "tuner/round: 0\n",
      "Score: 0.01305264513939619\n",
      "\n",
      "Trial 0208 summary\n",
      "Hyperparameters:\n",
      "dense_count: 10\n",
      "dense_base: 32\n",
      "encoder_dropout: False\n",
      "siamese_bn: True\n",
      "siamese_dropout: True\n",
      "start_lr: 0.0006500000000000001\n",
      "beta_1: 0.8999999999999999\n",
      "beta_2: 0.993\n",
      "epsilon: 0.002\n",
      "tuner/epochs: 150\n",
      "tuner/initial_epoch: 50\n",
      "tuner/bracket: 3\n",
      "tuner/round: 3\n",
      "tuner/trial_id: 0205\n",
      "Score: 0.014083095826208591\n",
      "\n",
      "Trial 0205 summary\n",
      "Hyperparameters:\n",
      "dense_count: 10\n",
      "dense_base: 32\n",
      "encoder_dropout: False\n",
      "siamese_bn: True\n",
      "siamese_dropout: True\n",
      "start_lr: 0.0006500000000000001\n",
      "beta_1: 0.8999999999999999\n",
      "beta_2: 0.993\n",
      "epsilon: 0.002\n",
      "tuner/epochs: 50\n",
      "tuner/initial_epoch: 17\n",
      "tuner/bracket: 3\n",
      "tuner/round: 2\n",
      "tuner/trial_id: 0191\n",
      "Score: 0.014381470158696175\n",
      "\n",
      "Trial 0203 summary\n",
      "Hyperparameters:\n",
      "dense_count: 10\n",
      "dense_base: 8\n",
      "encoder_dropout: False\n",
      "siamese_bn: True\n",
      "siamese_dropout: True\n",
      "start_lr: 0.00035000000000000005\n",
      "beta_1: 0.7\n",
      "beta_2: 0.998\n",
      "epsilon: 0.002\n",
      "tuner/epochs: 50\n",
      "tuner/initial_epoch: 17\n",
      "tuner/bracket: 3\n",
      "tuner/round: 2\n",
      "tuner/trial_id: 0196\n",
      "Score: 0.014536202885210514\n",
      "\n",
      "Trial 0228 summary\n",
      "Hyperparameters:\n",
      "dense_count: 8\n",
      "dense_base: 40\n",
      "encoder_dropout: False\n",
      "siamese_bn: True\n",
      "siamese_dropout: False\n",
      "start_lr: 0.0009000000000000001\n",
      "beta_1: 0.7\n",
      "beta_2: 0.994\n",
      "epsilon: 0.001\n",
      "tuner/epochs: 50\n",
      "tuner/initial_epoch: 17\n",
      "tuner/bracket: 2\n",
      "tuner/round: 1\n",
      "tuner/trial_id: 0222\n",
      "Score: 0.01655607298016548\n"
     ]
    }
   ],
   "source": [
    "tuner.results_summary()"
   ]
  },
  {
   "cell_type": "markdown",
   "metadata": {},
   "source": [
    "Since we want convenient access to the model's encoder part, we'll re-instantiate the model with the best architecture and transfer the best model's weights:"
   ]
  },
  {
   "cell_type": "code",
   "execution_count": 8,
   "metadata": {},
   "outputs": [
    {
     "name": "stderr",
     "output_type": "stream",
     "text": [
      "WARNING:absl:At this time, the v2.11+ optimizer `tf.keras.optimizers.Adam` runs slowly on M1/M2 Macs, please use the legacy Keras optimizer instead, located at `tf.keras.optimizers.legacy.Adam`.\n",
      "WARNING:absl:At this time, the v2.11+ optimizer `tf.keras.optimizers.Adam` runs slowly on M1/M2 Macs, please use the legacy Keras optimizer instead, located at `tf.keras.optimizers.legacy.Adam`.\n"
     ]
    },
    {
     "name": "stdout",
     "output_type": "stream",
     "text": [
      "Model: \"SNN_8_siamese\"\n",
      "__________________________________________________________________________________________________\n",
      " Layer (type)                Output Shape                 Param #   Connected to                  \n",
      "==================================================================================================\n",
      " input_3 (InputLayer)        [(None, 21, 3)]              0         []                            \n",
      "                                                                                                  \n",
      " input_4 (InputLayer)        [(None, 21, 3)]              0         []                            \n",
      "                                                                                                  \n",
      " SNN_8_encoder (Functional)  (None, 40)                   1038384   ['input_3[0][0]',             \n",
      "                                                          6          'input_4[0][0]']             \n",
      "                                                                                                  \n",
      " lambda_1 (Lambda)           (None, 1)                    0         ['SNN_8_encoder[0][0]',       \n",
      "                                                                     'SNN_8_encoder[1][0]']       \n",
      "                                                                                                  \n",
      " batch_normalization_1 (Bat  (None, 1)                    4         ['lambda_1[0][0]']            \n",
      " chNormalization)                                                                                 \n",
      "                                                                                                  \n",
      "==================================================================================================\n",
      "Total params: 10383850 (39.61 MB)\n",
      "Trainable params: 10383848 (39.61 MB)\n",
      "Non-trainable params: 2 (8.00 Byte)\n",
      "__________________________________________________________________________________________________\n"
     ]
    }
   ],
   "source": [
    "# Get history of best model training\n",
    "best_trial = tuner.oracle.get_best_trials(1)[0]\n",
    "best_model_history = tuner_history_cb.get_trial_history(\n",
    "    best_trial.trial_id\n",
    ")\n",
    "\n",
    "# Get weights of best model\n",
    "best_model = tuner.get_best_models(1)[0]\n",
    "best_weights = best_model.weights\n",
    "\n",
    "# Re-create best architecture\n",
    "best_hyper_params = tuner.get_best_hyperparameters(1)[0]\n",
    "snn_encoder, siamese_snn = build_model(best_hyper_params, get_encoder=True)\n",
    "siamese_snn.set_weights(best_weights)\n",
    "\n",
    "siamese_snn.summary()"
   ]
  },
  {
   "cell_type": "markdown",
   "metadata": {},
   "source": [
    "Let's save the best model and take a look at its training history:"
   ]
  },
  {
   "cell_type": "code",
   "execution_count": 9,
   "metadata": {},
   "outputs": [],
   "source": [
    "from pathlib import Path\n",
    "\n",
    "MODEL_DIR = \"models\"\n",
    "Path(MODEL_DIR).mkdir(parents=True, exist_ok=True)\n",
    "\n",
    "siamese_snn.save(f\"{MODEL_DIR}/contrastive_loss.keras\")"
   ]
  },
  {
   "cell_type": "markdown",
   "metadata": {},
   "source": [
    "Our model now takes about twice the number of epochs to converge (not least due to the reduced learning rate), but we seem to converge to decently low validation loss."
   ]
  },
  {
   "cell_type": "code",
   "execution_count": 10,
   "metadata": {},
   "outputs": [
    {
     "data": {
      "image/png": "[encoded data removed]",
      "text/plain": [
       "<Figure size 500x300 with 1 Axes>"
      ]
     },
     "metadata": {},
     "output_type": "display_data"
    }
   ],
   "source": [
    "from core.viz import visualize_history\n",
    "\n",
    "visualize_history( best_model_history, [\"loss\"])"
   ]
  },
  {
   "cell_type": "markdown",
   "metadata": {},
   "source": [
    "Our model also seems to perform quite well on entirely new signs:"
   ]
  },
  {
   "cell_type": "code",
   "execution_count": 11,
   "metadata": {},
   "outputs": [
    {
     "name": "stdout",
     "output_type": "stream",
     "text": [
      "++++++++++++ Test data ++++++++++++\n",
      "loss=0.1401\n"
     ]
    }
   ],
   "source": [
    "# And evaluate the model on test data\n",
    "loss = siamese_snn.evaluate([x_test_1, x_test_2], labels_test, verbose=0)\n",
    "print(f'++++++++++++ Test data ++++++++++++\\nloss={loss:.4f}')"
   ]
  },
  {
   "cell_type": "markdown",
   "metadata": {},
   "source": [
    "We can now also examine the model in terms of One-Shot classification."
   ]
  },
  {
   "cell_type": "code",
   "execution_count": 12,
   "metadata": {},
   "outputs": [],
   "source": [
    "categorical_dataset = dataset.load_categorical_numeric(\n",
    "    exclusive_test_labels=TEST_LABELS\n",
    ")\n",
    "\n",
    "x_test = categorical_dataset.x_test\n",
    "y_test = categorical_dataset.y_test\n",
    "label_map = categorical_dataset.label_map"
   ]
  },
  {
   "cell_type": "markdown",
   "metadata": {},
   "source": [
    "To do so we calculate a metric referred to as n-way accuracy.\n",
    "\n",
    "We randomly choose $n$ samples of different classes as our support set. All other samples form the query set.\n",
    "Each sample from the query set will be compared to every sample of the support set. The support set sample's embedding producing the smallest distance to the query sample's embedding will be chosen as a prediction.\n",
    "\n",
    "To simplify things we set $n=5$, meaning our support set encompasses all classes from the test set.\n",
    "\n",
    "Since the model's ability to predict correct classes might depend on the quality of the randomly chosen support samples, we perform multiple iterations of the same evaluation process where different support samples are chosen every time."
   ]
  },
  {
   "cell_type": "markdown",
   "metadata": {},
   "source": [
    "While obviously lower than with conventional classification, our accuracy score is still somewhat respectable:"
   ]
  },
  {
   "cell_type": "code",
   "execution_count": 13,
   "metadata": {},
   "outputs": [
    {
     "name": "stdout",
     "output_type": "stream",
     "text": [
      "50/50 [==============================] - 0s 6ms/step\n",
      "Mean 5-way accuracy: 0.7586075949367089\n",
      "Min 5-way accuracy: 0.6727848101265823\n",
      "Max 5-way accuracy: 0.8588607594936709\n",
      "5-way accuracy std.: 0.06545307564477287\n"
     ]
    }
   ],
   "source": [
    "from core.util import evaluate_n_way_accuracy\n",
    "\n",
    "\n",
    "y_true, y_pred, mean_acc, min_acc, max_acc, std = evaluate_n_way_accuracy(\n",
    "    x_test,\n",
    "    y_test,\n",
    "    snn_encoder,\n",
    "    k_prototype=1,\n",
    "    iterations=10\n",
    ")\n",
    "\n",
    "print(\n",
    "    f\"Mean 5-way accuracy: {mean_acc}\\n\"\n",
    "    f\"Min 5-way accuracy: {min_acc}\\n\"\n",
    "    f\"Max 5-way accuracy: {max_acc}\\n\"\n",
    "    f\"5-way accuracy std.: {std}\"\n",
    ")"
   ]
  },
  {
   "cell_type": "markdown",
   "metadata": {},
   "source": [
    "Another way to potentially improve our model's One-Shot performance is to use prototypes in our support set.\n",
    "\n",
    "Instead of comparing against a single random support embedding, we'll average $k$ random embeddings to form a support prototype.\n",
    "This could potentially help reduce the negative effects from outliers being chosen as supports."
   ]
  },
  {
   "cell_type": "markdown",
   "metadata": {},
   "source": [
    "As we can see, prototypes significantly improve the accuracy score and reduce the accuracy variance across iterations. However, there seems to be a sweet-spot at $k=10$, after which the n-way accuracy seems to stagnate:"
   ]
  },
  {
   "cell_type": "code",
   "execution_count": 14,
   "metadata": {},
   "outputs": [
    {
     "name": "stdout",
     "output_type": "stream",
     "text": [
      "50/50 [==============================] - 0s 6ms/step\n",
      "Mean 5-way accuracy (k-prototype = 1): 0.7586075949367089, std: 0.06545307564477287\n",
      "50/50 [==============================] - 0s 6ms/step\n",
      "Mean 5-way accuracy (k-prototype = 3): 0.8011464968152866, std: 0.05648485788196733\n",
      "50/50 [==============================] - 0s 6ms/step\n",
      "Mean 5-way accuracy (k-prototype = 5): 0.8339743589743589, std: 0.03644950935764275\n",
      "50/50 [==============================] - 0s 6ms/step\n",
      "Mean 5-way accuracy (k-prototype = 10): 0.842671009771987, std: 0.008928884802675917\n",
      "50/50 [==============================] - 0s 5ms/step\n",
      "Mean 5-way accuracy (k-prototype = 15): 0.8373509933774834, std: 0.007470245643551562\n",
      "50/50 [==============================] - 0s 5ms/step\n",
      "Mean 5-way accuracy (k-prototype = 20): 0.8386531986531987, std: 0.007365661367744277\n",
      "50/50 [==============================] - 0s 5ms/step\n",
      "Mean 5-way accuracy (k-prototype = 50): 0.8358052434456928, std: 0.007237676302131024\n",
      "50/50 [==============================] - 0s 5ms/step\n",
      "Mean 5-way accuracy (k-prototype = 75): 0.837190082644628, std: 0.006444161550286907\n",
      "50/50 [==============================] - 0s 5ms/step\n",
      "Mean 5-way accuracy (k-prototype = 100): 0.8383410138248848, std: 0.0060465325223435186\n"
     ]
    }
   ],
   "source": [
    "k_prototype = [1, 3, 5, 10, 15, 20, 50, 75, 100]\n",
    "\n",
    "for k in k_prototype:\n",
    "    _, _, n_way_acc_pk, _, _, std = evaluate_n_way_accuracy(\n",
    "        x_test,\n",
    "        y_test,\n",
    "        snn_encoder,\n",
    "        k_prototype=k,\n",
    "        iterations=10\n",
    "    )\n",
    "\n",
    "    print(\n",
    "        f\"Mean 5-way accuracy (k-prototype = {k}): {n_way_acc_pk}, std: {std}\"\n",
    "    )"
   ]
  },
  {
   "cell_type": "markdown",
   "metadata": {},
   "source": [
    "Looking at the confusion matrix, we can see a worrying pattern:\n",
    "The model performs very well on \"easy\" pairings while it is little better than random for \"hard\" pairings (\"easy\" as in: solved well by the original classification model which was trained on the entire dataset; \"hard\": analogous).\n",
    "\n",
    "Improving the model's ability to distinguish similar (hard) samples is a central problem of contrastive learning."
   ]
  },
  {
   "cell_type": "code",
   "execution_count": 15,
   "metadata": {},
   "outputs": [
    {
     "data": {
      "image/png": "[encoded data removed]",
      "text/plain": [
       "<Figure size 500x500 with 1 Axes>"
      ]
     },
     "metadata": {},
     "output_type": "display_data"
    }
   ],
   "source": [
    "from core.viz import visualize_confusion_matrix\n",
    "\n",
    "unique_test_labels = list(set(y_test))\n",
    "reverse_label_map = {int_lbl: str_lbl for str_lbl, int_lbl in label_map.items()}\n",
    "str_test_labels = [reverse_label_map[lbl] for lbl in unique_test_labels]\n",
    "\n",
    "visualize_confusion_matrix(y_true, y_pred, str_test_labels)"
   ]
  },
  {
   "cell_type": "markdown",
   "metadata": {},
   "source": [
    "Finally, we can take a look at the embeddings our contrastive model produces."
   ]
  },
  {
   "cell_type": "code",
   "execution_count": 16,
   "metadata": {},
   "outputs": [
    {
     "name": "stdout",
     "output_type": "stream",
     "text": [
      "50/50 [==============================] - 0s 6ms/step\n"
     ]
    }
   ],
   "source": [
    "# And get embeddings for the test data\n",
    "embeddings = snn_encoder.predict(x_test)"
   ]
  },
  {
   "cell_type": "code",
   "execution_count": 17,
   "metadata": {},
   "outputs": [
    {
     "name": "stdout",
     "output_type": "stream",
     "text": [
      "[t-SNE] Computing 91 nearest neighbors...\n",
      "[t-SNE] Indexed 1585 samples in 0.000s...\n",
      "[t-SNE] Computed neighbors for 1585 samples in 0.320s...\n",
      "[t-SNE] Computed conditional probabilities for sample 1000 / 1585\n",
      "[t-SNE] Computed conditional probabilities for sample 1585 / 1585\n",
      "[t-SNE] Mean sigma: 2.781180\n",
      "[t-SNE] KL divergence after 250 iterations with early exaggeration: 54.419399\n",
      "[t-SNE] KL divergence after 1000 iterations: 0.388061\n"
     ]
    }
   ],
   "source": [
    "from sklearn.manifold import TSNE\n",
    "\n",
    "# Fit T-SNE on embeddings\n",
    "tsne = TSNE(n_components=2, random_state=42, verbose=1)\n",
    "reduced_embeddings = tsne.fit_transform(embeddings)"
   ]
  },
  {
   "cell_type": "markdown",
   "metadata": {},
   "source": [
    "Again, the weaknesses shown in the confusion matrix are repeated in the embeddings."
   ]
  },
  {
   "cell_type": "code",
   "execution_count": 18,
   "metadata": {},
   "outputs": [
    {
     "data": {
      "image/png": "[encoded data removed]",
      "text/plain": [
       "<Figure size 500x300 with 1 Axes>"
      ]
     },
     "metadata": {},
     "output_type": "display_data"
    }
   ],
   "source": [
    "from core.viz import visualize_embeddings\n",
    "\n",
    "# Visualize embeddings in scatter plot\n",
    "visualize_embeddings(\n",
    "    reduced_embeddings,\n",
    "    y_test,\n",
    "    label_map\n",
    ")"
   ]
  }
 ],
 "metadata": {
  "kernelspec": {
   "display_name": "venv",
   "language": "python",
   "name": "python3"
  },
  "language_info": {
   "codemirror_mode": {
    "name": "ipython",
    "version": 3
   },
   "file_extension": ".py",
   "mimetype": "text/x-python",
   "name": "python",
   "nbconvert_exporter": "python",
   "pygments_lexer": "ipython3",
   "version": "3.10.11"
  }
 },
 "nbformat": 4,
 "nbformat_minor": 2
}
