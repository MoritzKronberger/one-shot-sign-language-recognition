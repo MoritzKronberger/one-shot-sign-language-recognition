{
 "cells": [
  {
   "cell_type": "markdown",
   "metadata": {},
   "source": [
    "# Multi-Class n-Pair Loss"
   ]
  },
  {
   "cell_type": "code",
   "execution_count": 1,
   "metadata": {},
   "outputs": [],
   "source": [
    "from pathlib import Path\n",
    "\n",
    "METRICS_FILEPATH = \"metrics.json\"\n",
    "\n",
    "MODEL_DIR = \"models\"\n",
    "FIG_DIR = \"figures\"\n",
    "\n",
    "# Create output directories if not exist\n",
    "Path(MODEL_DIR).mkdir(parents=True, exist_ok=True)\n",
    "Path(FIG_DIR).mkdir(parents=True, exist_ok=True)"
   ]
  },
  {
   "cell_type": "markdown",
   "metadata": {},
   "source": [
    "### The \"Hard Class\"-Problem\n",
    "\n",
    "Up until now our contrastive models have done fairly well when it comes to predicting the similarity between two samples, but have struggled when applied in a classification setting. How can this be?\n",
    "\n",
    "One plausible intuition.\n",
    "\n",
    "Assume we have 10 different classes, each with one reference and one sample.\n",
    "For each reference we choose 2 pairs:\n",
    "\n",
    "1. The matching sample\n",
    "2. A random non matching sample\n",
    "\n",
    "We are therefore left with 20 pairs.\n",
    "\n",
    "Let's consider only one of our 10 classes to be \"hard\". In our data we are guaranteed one matching and one non matching pair involving the hard class. Since the chance to draw a given class when choosing the random non-matching class is 1/9 and we draw 9 random samples for the easy classes, we'll assume our data contains one more non matching pair involving the hard class.\n",
    "\n",
    "Let's also assume our model will always predict an extremely small distance for a pair whenever the hard class is involved.\n",
    "The model can also be assumed to predict \"perfect\" distances for pairs of the 9 easy classes (as long as the hard class is not involved).\n",
    "\n",
    "We ask our model to make predictions on the 20 pairs, the result will always be:\n",
    "\n",
    "- Perfect distances for the 17 easy pairs (17 true positives)\n",
    "- \"Perfect\" distance for the 1 matching hard pair (1 true positive)\n",
    "- Incorrect distance for the 2 non-matching hard pairs (2 false positives)\n",
    "\n",
    "This would result in an accuracy score of $\\frac{TP+TN}{TP+FP+TN+FN} = \\frac{18}{20} = 0.9$. Amazing!\n",
    "\n",
    "Now let's think about the classification setting:\n",
    "\n",
    "We will now ask the model to compare each of our 20 samples to each of our 20 references, the reference producing the smallest distance to the given sample will be assumed to be the predicted class.\n",
    "\n",
    "This however means, that every sample will also be compared to the hard class, in which case the model will predict a very minimal distance. (We can assume this distance is always smaller than all other predicted distances.)\n",
    "\n",
    "Our model's classification predictions will therefore always look like this:\n",
    "\n",
    "- 1 correct prediction (hard class)\n",
    "- 19 incorrect predictions (easy class)\n",
    "\n",
    "This will result in an accuracy score of $\\frac{1}{20} = 0.05$.\n",
    "\n",
    "If we compare this theoretical scenario to our models' confusion matrices, we'll see it doesn't hold true entirely, but we can observe a very similar pattern for the two hard \"u\" and \"v\" classes.\n",
    "\n",
    "Overall we can get an intuition for how a model's inability to differentiate between a few hard classes can still allow it to achieve great accuracy for pair-wise distances, but make it struggle in classification settings."
   ]
  },
  {
   "cell_type": "markdown",
   "metadata": {},
   "source": [
    "## Multi-Class n-Pair Loss\n",
    "\n",
    "If the hard pairings are underrepresented in out training data our model can \"get away\" with performing badly on them, since the punishment for doing so is minimal.\n",
    "\n",
    "A possible solution for this would be hard negative mining, but as we saw with our implementation of Triplet Loss its effect was fairly limited.\n",
    "\n",
    "Another possible solution would be the use of Multi-Class n-Pair Loss:\n",
    "\n",
    "What if, instead of only comparing pairs or triplets, we could compare a positive sample to a much wider range of negative samples, e.g. a metric close to categorical cross entropy but using a distance metric?\n",
    "\n",
    "$$ L_{N-pair-mc}(\\{(x_i, x_i^+ )\\}_{i=1}^N; f ) = \\frac{1}{N} \\sum^{N}_{i=1} log(1+ \\sum_{j \\neq i} exp(f^T_i f^+_j - f^T_i f^+_i))$$"
   ]
  },
  {
   "cell_type": "markdown",
   "metadata": {},
   "source": [
    "To avoid excessive computation, Multi-Class n-Pair Loss usually employs a special batch construction method:\n",
    "\n",
    "Let ${(x_1, x^+_1 ), · · · , (x_N , x^+_N )}$ be $N$ pairs of examples from $N$ different classes, i.e., $y_i \\neq y_j, ∀i \\neq j$.\n",
    "\n",
    "We build $N$ tuplets, denoted as $\\{S_i\\}^N_{i=1}$, from the $N$ pairs, where $S_i = \\{x_i, x^+_1 , x^+_2 , ··· , x^+_N\\}$.\n",
    "\n",
    "Here, $x_i$ is the query for $S_i$, $x^+_i$ is the positive example and $x^+_j$ , $j \\neq i$ are the negative examples.\n",
    "\n",
    "Or in other words:\n",
    "\n",
    "Assuming our data consists of $N$ classes each batch is dedicated to one sample of our dataset containing the sample itself, one matching sample, as well as one non-matching sample for each of our $N-1$ other classes."
   ]
  },
  {
   "cell_type": "markdown",
   "metadata": {},
   "source": [
    "Lets try constructing a training dataset using this batch construction method:"
   ]
  },
  {
   "cell_type": "code",
   "execution_count": 2,
   "metadata": {},
   "outputs": [],
   "source": [
    "import random\n",
    "import numpy as np\n",
    "import numpy.typing as npt\n",
    "from keras.utils import Sequence\n",
    "from sklearn.utils import shuffle\n",
    "\n",
    "class NPairDataGen(Sequence):\n",
    "    \"\"\"Custom data generator.\n",
    "    \n",
    "    Reference:\n",
    "        https://medium.com/analytics-vidhya/write-your-own-custom-data-generator-for-tensorflow-keras-1252b64e41c3\n",
    "    \"\"\"\n",
    "\n",
    "    x: npt.NDArray[np.float32]\n",
    "    y: npt.NDArray[int]\n",
    "    unique_labels: npt.NDArray[int]\n",
    "    num_classes: int\n",
    "    num_samples_per_class: int\n",
    "    \n",
    "    def __init__(\n",
    "        self,\n",
    "        x: npt.NDArray[np.float32],\n",
    "        y_numeric: npt.NDArray[int]\n",
    "    ):\n",
    "        self.x = x.copy()\n",
    "        self.y = y_numeric.copy()\n",
    "\n",
    "        # Sort samples by label (in case they were shuffled)\n",
    "        sort_idx = np.argsort(self.y)\n",
    "        self.x = self.x[sort_idx]\n",
    "        self.y = self.y[sort_idx]\n",
    "\n",
    "        # Determine the class with the least amount of samples\n",
    "        self.unique_labels, counts = np.unique(self.y, return_counts=True)\n",
    "        self.num_classes = len(self.unique_labels)\n",
    "        min_count = np.min(counts)\n",
    "\n",
    "        # Reduce label count for each class to min amount of samples\n",
    "        reduced_y = np.repeat(self.unique_labels, min_count)\n",
    "        \n",
    "        # Pick the data according to the reduced labels\n",
    "        reduced_x: list[npt.NDArray[np.float32]] = []\n",
    "        for label in self.unique_labels:\n",
    "            indices = np.where(self.y == label)[0][:min_count]\n",
    "            reduced_x.extend(list(self.x[indices]))\n",
    "\n",
    "        self.y = reduced_y\n",
    "        self.x = np.array(reduced_x)\n",
    "        self.num_samples_per_class = min_count\n",
    "\n",
    "    def on_epoch_end(self):\n",
    "        pass\n",
    "\n",
    "    def __get_random_matching_index(self, y: int, Y: npt.NDArray[int]) -> int:\n",
    "        matching_indices = np.where(Y == y)[0]\n",
    "        matching_idx = random.choice(matching_indices)\n",
    "        assert Y[matching_idx] == y\n",
    "        return matching_idx\n",
    "    \n",
    "    def __getitem__(self, batch_index: int) -> tuple[npt.NDArray[np.float32], npt.NDArray[int]]:\n",
    "        \"\"\"Get n-Pair batch.\"\"\"\n",
    "        X_anchor = self.x[batch_index::self.num_samples_per_class]\n",
    "        Y_anchor = self.y[batch_index::self.num_samples_per_class]\n",
    "        X_anchor, Y_anchor = shuffle(X_anchor, Y_anchor)\n",
    "\n",
    "        # Get random positive sample for each anchor\n",
    "        X_positive = np.array(\n",
    "            [self.x[self.__get_random_matching_index(y, self.y)] for y in Y_anchor]\n",
    "        )\n",
    "\n",
    "        return (\n",
    "            [X_anchor, X_positive],\n",
    "            Y_anchor,\n",
    "        )\n",
    "\n",
    "    \n",
    "    def __len__(self):\n",
    "        return self.num_samples_per_class"
   ]
  },
  {
   "cell_type": "code",
   "execution_count": 3,
   "metadata": {},
   "outputs": [
    {
     "name": "stdout",
     "output_type": "stream",
     "text": [
      "Warning: Your Kaggle API key is readable by other users on this system! To fix this, you can run 'chmod 600 /Users/moritz/.kaggle/kaggle.json'\n"
     ]
    }
   ],
   "source": [
    "from sklearn.model_selection import train_test_split\n",
    "from core.dataset import DGSAlphabet\n",
    "\n",
    "TEST_LABELS = ['u', 'v', 'w', 'x', 'y']\n",
    "\n",
    "# Import the dataset\n",
    "dataset = DGSAlphabet()\n",
    "categorical_dataset = dataset.load_categorical_numeric(\n",
    "    exclusive_test_labels=TEST_LABELS\n",
    ")\n",
    "x_train_val = categorical_dataset.x_train\n",
    "y_train_val = categorical_dataset.y_train\n",
    "x_test = categorical_dataset.x_test\n",
    "y_test = categorical_dataset.y_test\n",
    "label_map = categorical_dataset.label_map\n",
    "\n",
    "x_train, x_val, y_train, y_val = train_test_split(\n",
    "    x_train_val,\n",
    "    y_train_val,\n",
    "    test_size=0.2,\n",
    "    shuffle=True,\n",
    "    random_state=42\n",
    ")"
   ]
  },
  {
   "cell_type": "markdown",
   "metadata": {},
   "source": [
    "Our generated batch now looks like the description in the paper:"
   ]
  },
  {
   "cell_type": "code",
   "execution_count": 4,
   "metadata": {},
   "outputs": [
    {
     "data": {
      "text/plain": [
       "array([ 2, 17, 16,  8, 10,  4,  7,  6, 15, 13,  0,  3, 14,  5, 18,  9, 11,\n",
       "       12,  1])"
      ]
     },
     "execution_count": 4,
     "metadata": {},
     "output_type": "execute_result"
    }
   ],
   "source": [
    "train_gen = NPairDataGen(x_train, y_train)\n",
    "\n",
    "x_batch, y_batch = train_gen.__getitem__(0)\n",
    "y_batch"
   ]
  },
  {
   "cell_type": "code",
   "execution_count": 5,
   "metadata": {},
   "outputs": [],
   "source": [
    "# Same for validation data\n",
    "val_gen = NPairDataGen(x_val, y_val)"
   ]
  },
  {
   "cell_type": "markdown",
   "metadata": {},
   "source": [
    "We'll also be generating one batch for the minimum amount of samples per class, just like we would expect:"
   ]
  },
  {
   "cell_type": "code",
   "execution_count": 6,
   "metadata": {},
   "outputs": [
    {
     "name": "stdout",
     "output_type": "stream",
     "text": [
      "4576 209\n"
     ]
    }
   ],
   "source": [
    "print(x_train.shape[0], train_gen.__len__())"
   ]
  },
  {
   "cell_type": "markdown",
   "metadata": {},
   "source": [
    "We'll adapt the TFA implementation of `npairs_loss`:"
   ]
  },
  {
   "cell_type": "code",
   "execution_count": 7,
   "metadata": {},
   "outputs": [
    {
     "name": "stderr",
     "output_type": "stream",
     "text": [
      "/Users/moritz/Documents/Hochschule Augsburg/Semester 2 - Master/Data Science/project/venv/lib/python3.10/site-packages/tensorflow_addons/utils/tfa_eol_msg.py:23: UserWarning: \n",
      "\n",
      "TensorFlow Addons (TFA) has ended development and introduction of new features.\n",
      "TFA has entered a minimal maintenance and release mode until a planned end of life in May 2024.\n",
      "Please modify downstream libraries to take dependencies from other repositories in our TensorFlow community (e.g. Keras, Keras-CV, and Keras-NLP). \n",
      "\n",
      "For more information see: https://github.com/tensorflow/addons/issues/2807 \n",
      "\n",
      "  warnings.warn(\n"
     ]
    }
   ],
   "source": [
    "import tensorflow as tf\n",
    "from tensorflow_addons.losses import npairs_loss\n",
    "\n",
    "def npair_loss(y_true: tf.Tensor, embeddings: tf.Tensor):\n",
    "    \"\"\"N-Pair Loss for batch for anchor and positive embeddings.ipynb\n",
    "    \n",
    "    Reference:\n",
    "        https://www.tensorflow.org/addons/api_docs/python/tfa/losses/npairs_loss\n",
    "    \"\"\"\n",
    "    e_anchor = embeddings[0]\n",
    "    e_positive = embeddings[1]\n",
    "    y_pred = tf.matmul(e_anchor, e_positive, transpose_a=False, transpose_b=True)\n",
    "    return npairs_loss(y_true, y_pred)\n",
    "    "
   ]
  },
  {
   "cell_type": "markdown",
   "metadata": {},
   "source": [
    "Let's instantiate our model as a Siamese Neural Network, but exclude the merge (distance) layer (-> output 2 embeddings).\n",
    "\n",
    "Interestingly, our model is very sensitive to Batch Normalization: Not including any Batch Normalization causes our model to collapse after ~2 epochs, outputting only constant values as predictions. Adding additional Batch Normalization after the embedding layer boosts the model's validation accuracy by ~0.1."
   ]
  },
  {
   "cell_type": "code",
   "execution_count": 8,
   "metadata": {},
   "outputs": [],
   "source": [
    "from core.util import new_SNN_builder\n",
    "\n",
    "# Create model builder for Keras Tuner\n",
    "build_model = new_SNN_builder(\n",
    "    mode=\"siamese\",\n",
    "    loss=npair_loss,\n",
    "    distance=None,\n",
    "    siamese_sigmoid_output=False,\n",
    "    force_embedding_bn=True\n",
    ")"
   ]
  },
  {
   "cell_type": "code",
   "execution_count": 9,
   "metadata": {},
   "outputs": [],
   "source": [
    "# Tuning Hyperparameters\n",
    "# https://keras.io/api/keras_tuner/tuners/hyperband\n",
    "MAX_EPOCHS = 150\n",
    "FACTOR = 3\n",
    "HYPERBAND_ITERATIONS = 1\n",
    "SEED = 42\n",
    "\n",
    "# Where to save tuner checkpoints\n",
    "TUNER_DIR = \"tuner\"\n",
    "PROJECT = \"npair_loss\""
   ]
  },
  {
   "cell_type": "code",
   "execution_count": 10,
   "metadata": {},
   "outputs": [
    {
     "name": "stdout",
     "output_type": "stream",
     "text": [
      "Reloading Tuner from tuner/npair_loss/tuner0.json\n",
      "Search space summary\n",
      "Default search space size: 7\n",
      "dense_count (Int)\n",
      "{'default': None, 'conditions': [], 'min_value': 2, 'max_value': 10, 'step': 2, 'sampling': 'linear'}\n",
      "dense_base (Int)\n",
      "{'default': None, 'conditions': [], 'min_value': 8, 'max_value': 64, 'step': 8, 'sampling': 'linear'}\n",
      "encoder_dropout (Boolean)\n",
      "{'default': False, 'conditions': []}\n",
      "start_lr (Float)\n",
      "{'default': 5e-05, 'conditions': [], 'min_value': 5e-05, 'max_value': 0.001, 'step': 5e-05, 'sampling': 'linear'}\n",
      "beta_1 (Float)\n",
      "{'default': 0.7, 'conditions': [], 'min_value': 0.7, 'max_value': 0.9, 'step': 0.1, 'sampling': 'linear'}\n",
      "beta_2 (Float)\n",
      "{'default': 0.99, 'conditions': [], 'min_value': 0.99, 'max_value': 0.999, 'step': 0.001, 'sampling': 'linear'}\n",
      "epsilon (Float)\n",
      "{'default': 0.001, 'conditions': [], 'min_value': 0.001, 'max_value': 0.01, 'step': 0.001, 'sampling': 'linear'}\n"
     ]
    }
   ],
   "source": [
    "import keras_tuner\n",
    "\n",
    "tuner = keras_tuner.Hyperband(\n",
    "    hypermodel=build_model,\n",
    "    objective=\"val_loss\",\n",
    "    max_epochs=MAX_EPOCHS,\n",
    "    factor=FACTOR,\n",
    "    hyperband_iterations=HYPERBAND_ITERATIONS,\n",
    "    seed=SEED,\n",
    "    directory=TUNER_DIR,\n",
    "    project_name=PROJECT\n",
    ")\n",
    "\n",
    "tuner.search_space_summary()"
   ]
  },
  {
   "cell_type": "markdown",
   "metadata": {},
   "source": [
    "We'll use the same callbacks as for the classification training."
   ]
  },
  {
   "cell_type": "code",
   "execution_count": 11,
   "metadata": {},
   "outputs": [
    {
     "name": "stdout",
     "output_type": "stream",
     "text": [
      "Loading history from JSON tuner/npair_loss/history.json\n"
     ]
    }
   ],
   "source": [
    "from core.util import new_default_callbacks, TunerHistoryCallback\n",
    "\n",
    "# Reduce learning rate if no improvement is made\n",
    "reduce_lr, early_stop = new_default_callbacks(\n",
    "    monitor=\"val_loss\",\n",
    "    mode=\"min\",\n",
    "    lr_reduce_factor=0.2,\n",
    "    lr_reduce_patience=5,\n",
    "    verbose=1\n",
    ")\n",
    "\n",
    "# Keep track of histories for every tuner trial\n",
    "tuner_history_cb = TunerHistoryCallback(tuner)"
   ]
  },
  {
   "cell_type": "markdown",
   "metadata": {},
   "source": [
    "Notice that we are not defining a batch size, our data generator will handle this implicitly."
   ]
  },
  {
   "cell_type": "code",
   "execution_count": 12,
   "metadata": {},
   "outputs": [],
   "source": [
    "tuner.search(\n",
    "    train_gen,\n",
    "    validation_data=val_gen,\n",
    "    callbacks=[reduce_lr, early_stop, tuner_history_cb]\n",
    ")"
   ]
  },
  {
   "cell_type": "code",
   "execution_count": 13,
   "metadata": {},
   "outputs": [
    {
     "name": "stdout",
     "output_type": "stream",
     "text": [
      "Results summary\n",
      "Results in tuner/npair_loss\n",
      "Showing 10 best trials\n",
      "Objective(name=\"val_loss\", direction=\"min\")\n",
      "\n",
      "Trial 0200 summary\n",
      "Hyperparameters:\n",
      "dense_count: 6\n",
      "dense_base: 48\n",
      "encoder_dropout: False\n",
      "start_lr: 0.0008\n",
      "beta_1: 0.7\n",
      "beta_2: 0.999\n",
      "epsilon: 0.007\n",
      "tuner/epochs: 150\n",
      "tuner/initial_epoch: 50\n",
      "tuner/bracket: 3\n",
      "tuner/round: 3\n",
      "tuner/trial_id: 0199\n",
      "Score: 0.09478799253702164\n",
      "\n",
      "Trial 0237 summary\n",
      "Hyperparameters:\n",
      "dense_count: 6\n",
      "dense_base: 8\n",
      "encoder_dropout: False\n",
      "start_lr: 0.0008\n",
      "beta_1: 0.7999999999999999\n",
      "beta_2: 0.998\n",
      "epsilon: 0.007\n",
      "tuner/epochs: 150\n",
      "tuner/initial_epoch: 50\n",
      "tuner/bracket: 1\n",
      "tuner/round: 1\n",
      "tuner/trial_id: 0231\n",
      "Score: 0.11346976459026337\n",
      "\n",
      "Trial 0199 summary\n",
      "Hyperparameters:\n",
      "dense_count: 6\n",
      "dense_base: 48\n",
      "encoder_dropout: False\n",
      "start_lr: 0.0008\n",
      "beta_1: 0.7\n",
      "beta_2: 0.999\n",
      "epsilon: 0.007\n",
      "tuner/epochs: 50\n",
      "tuner/initial_epoch: 17\n",
      "tuner/bracket: 3\n",
      "tuner/round: 2\n",
      "tuner/trial_id: 0184\n",
      "Score: 0.12179848551750183\n",
      "\n",
      "Trial 0201 summary\n",
      "Hyperparameters:\n",
      "dense_count: 6\n",
      "dense_base: 8\n",
      "encoder_dropout: False\n",
      "start_lr: 0.0005\n",
      "beta_1: 0.7999999999999999\n",
      "beta_2: 0.992\n",
      "epsilon: 0.008\n",
      "tuner/epochs: 150\n",
      "tuner/initial_epoch: 50\n",
      "tuner/bracket: 3\n",
      "tuner/round: 3\n",
      "tuner/trial_id: 0198\n",
      "Score: 0.14403314888477325\n",
      "\n",
      "Trial 0226 summary\n",
      "Hyperparameters:\n",
      "dense_count: 8\n",
      "dense_base: 64\n",
      "encoder_dropout: False\n",
      "start_lr: 0.00055\n",
      "beta_1: 0.7\n",
      "beta_2: 0.994\n",
      "epsilon: 0.004\n",
      "tuner/epochs: 150\n",
      "tuner/initial_epoch: 50\n",
      "tuner/bracket: 2\n",
      "tuner/round: 2\n",
      "tuner/trial_id: 0220\n",
      "Score: 0.17372968792915344\n",
      "\n",
      "Trial 0241 summary\n",
      "Hyperparameters:\n",
      "dense_count: 4\n",
      "dense_base: 56\n",
      "encoder_dropout: True\n",
      "start_lr: 0.0009500000000000001\n",
      "beta_1: 0.7999999999999999\n",
      "beta_2: 0.995\n",
      "epsilon: 0.010000000000000002\n",
      "tuner/epochs: 150\n",
      "tuner/initial_epoch: 0\n",
      "tuner/bracket: 0\n",
      "tuner/round: 0\n",
      "Score: 0.1774265170097351\n",
      "\n",
      "Trial 0238 summary\n",
      "Hyperparameters:\n",
      "dense_count: 6\n",
      "dense_base: 32\n",
      "encoder_dropout: True\n",
      "start_lr: 0.00030000000000000003\n",
      "beta_1: 0.7999999999999999\n",
      "beta_2: 0.993\n",
      "epsilon: 0.002\n",
      "tuner/epochs: 150\n",
      "tuner/initial_epoch: 50\n",
      "tuner/bracket: 1\n",
      "tuner/round: 1\n",
      "tuner/trial_id: 0235\n",
      "Score: 0.18200774490833282\n",
      "\n",
      "Trial 0220 summary\n",
      "Hyperparameters:\n",
      "dense_count: 8\n",
      "dense_base: 64\n",
      "encoder_dropout: False\n",
      "start_lr: 0.00055\n",
      "beta_1: 0.7\n",
      "beta_2: 0.994\n",
      "epsilon: 0.004\n",
      "tuner/epochs: 50\n",
      "tuner/initial_epoch: 17\n",
      "tuner/bracket: 2\n",
      "tuner/round: 1\n",
      "tuner/trial_id: 0212\n",
      "Score: 0.19560083746910095\n",
      "\n",
      "Trial 0198 summary\n",
      "Hyperparameters:\n",
      "dense_count: 6\n",
      "dense_base: 8\n",
      "encoder_dropout: False\n",
      "start_lr: 0.0005\n",
      "beta_1: 0.7999999999999999\n",
      "beta_2: 0.992\n",
      "epsilon: 0.008\n",
      "tuner/epochs: 50\n",
      "tuner/initial_epoch: 17\n",
      "tuner/bracket: 3\n",
      "tuner/round: 2\n",
      "tuner/trial_id: 0189\n",
      "Score: 0.22270122170448303\n",
      "\n",
      "Trial 0196 summary\n",
      "Hyperparameters:\n",
      "dense_count: 4\n",
      "dense_base: 16\n",
      "encoder_dropout: True\n",
      "start_lr: 0.0009000000000000001\n",
      "beta_1: 0.7999999999999999\n",
      "beta_2: 0.996\n",
      "epsilon: 0.003\n",
      "tuner/epochs: 50\n",
      "tuner/initial_epoch: 17\n",
      "tuner/bracket: 3\n",
      "tuner/round: 2\n",
      "tuner/trial_id: 0182\n",
      "Score: 0.22276607155799866\n"
     ]
    }
   ],
   "source": [
    "tuner.results_summary()"
   ]
  },
  {
   "cell_type": "markdown",
   "metadata": {},
   "source": [
    "Since we want convenient access to the model's encoder part, we'll re-instantiate the model with the best architecture and transfer the best model's weights:"
   ]
  },
  {
   "cell_type": "code",
   "execution_count": 14,
   "metadata": {},
   "outputs": [
    {
     "name": "stderr",
     "output_type": "stream",
     "text": [
      "WARNING:absl:At this time, the v2.11+ optimizer `tf.keras.optimizers.Adam` runs slowly on M1/M2 Macs, please use the legacy Keras optimizer instead, located at `tf.keras.optimizers.legacy.Adam`.\n",
      "WARNING:absl:At this time, the v2.11+ optimizer `tf.keras.optimizers.Adam` runs slowly on M1/M2 Macs, please use the legacy Keras optimizer instead, located at `tf.keras.optimizers.legacy.Adam`.\n"
     ]
    },
    {
     "name": "stdout",
     "output_type": "stream",
     "text": [
      "Model: \"SNN_6_siamese\"\n",
      "__________________________________________________________________________________________________\n",
      " Layer (type)                Output Shape                 Param #   Connected to                  \n",
      "==================================================================================================\n",
      " input_3 (InputLayer)        [(None, 21, 3)]              0         []                            \n",
      "                                                                                                  \n",
      " input_4 (InputLayer)        [(None, 21, 3)]              0         []                            \n",
      "                                                                                                  \n",
      " SNN_6_encoder (Functional)  (None, 48)                   3532374   ['input_3[0][0]',             \n",
      "                                                                     'input_4[0][0]']             \n",
      "                                                                                                  \n",
      " lambda_1 (Lambda)           (2, None, 48)                0         ['SNN_6_encoder[0][0]',       \n",
      "                                                                     'SNN_6_encoder[1][0]']       \n",
      "                                                                                                  \n",
      " batch_normalization_1 (Bat  (2, None, 48)                192       ['lambda_1[0][0]']            \n",
      " chNormalization)                                                                                 \n",
      "                                                                                                  \n",
      "==================================================================================================\n",
      "Total params: 3532566 (13.48 MB)\n",
      "Trainable params: 3532470 (13.48 MB)\n",
      "Non-trainable params: 96 (384.00 Byte)\n",
      "__________________________________________________________________________________________________\n"
     ]
    }
   ],
   "source": [
    "# Get history of best model training\n",
    "best_trial = tuner.oracle.get_best_trials(1)[0]\n",
    "best_model_history = tuner_history_cb.get_trial_history(\n",
    "    best_trial.trial_id\n",
    ")\n",
    "\n",
    "# Get weights of best model\n",
    "best_model = tuner.get_best_models(1)[0]\n",
    "best_weights = best_model.weights\n",
    "\n",
    "# Re-create best architecture\n",
    "best_hyper_params = tuner.get_best_hyperparameters(1)[0]\n",
    "snn_encoder, siamese_snn = build_model(best_hyper_params, get_encoder=True)\n",
    "siamese_snn.set_weights(best_weights)\n",
    "\n",
    "siamese_snn.summary()"
   ]
  },
  {
   "cell_type": "markdown",
   "metadata": {},
   "source": [
    "Let's save the best model and take a look at its training history:"
   ]
  },
  {
   "cell_type": "code",
   "execution_count": 15,
   "metadata": {},
   "outputs": [],
   "source": [
    "siamese_snn.save(f\"{MODEL_DIR}/npair_loss.keras\")"
   ]
  },
  {
   "cell_type": "markdown",
   "metadata": {},
   "source": [
    "We can notice our validation accuracy is quite a bit lower than with previous training methods, struggling to push above 0.8:"
   ]
  },
  {
   "cell_type": "code",
   "execution_count": 16,
   "metadata": {},
   "outputs": [
    {
     "data": {
      "image/png": "[encoded data removed]",
      "text/plain": [
       "<Figure size 500x300 with 1 Axes>"
      ]
     },
     "metadata": {},
     "output_type": "display_data"
    }
   ],
   "source": [
    "from core.viz import visualize_history\n",
    "\n",
    "visualize_history(\n",
    "    best_model_history,\n",
    "    [\"loss\"],\n",
    "    \"Multi-Class N-Pair Loss\",\n",
    "    f\"{FIG_DIR}/npair_loss_history.svg\"\n",
    ")"
   ]
  },
  {
   "cell_type": "markdown",
   "metadata": {},
   "source": [
    "But we were mainly worried about improving our accuracy on unseen test data in a classification scenario. Conveniently, our n-Pair Loss is equivalent to Categorical Crossentropy, since our batch size equals the number of classes.\n",
    "\n",
    "This allows use to use the builtin evaluate method for a classification-like evaluation.\n",
    "\n",
    "While our accuracy is still significantly lower than using other losses, it is very similar to our validation acuracy (only ~3% deviation), something we were unable to achieve before."
   ]
  },
  {
   "cell_type": "code",
   "execution_count": 17,
   "metadata": {},
   "outputs": [],
   "source": [
    "test_gen = NPairDataGen(x_test, y_test)"
   ]
  },
  {
   "cell_type": "code",
   "execution_count": 18,
   "metadata": {},
   "outputs": [
    {
     "name": "stdout",
     "output_type": "stream",
     "text": [
      "++++++++++++ Test data ++++++++++++\n",
      "loss=0.8390\n"
     ]
    }
   ],
   "source": [
    "loss = siamese_snn.evaluate(test_gen, verbose=0)\n",
    "print(f'++++++++++++ Test data ++++++++++++\\nloss={loss:.4f}')"
   ]
  },
  {
   "cell_type": "code",
   "execution_count": 19,
   "metadata": {},
   "outputs": [],
   "source": [
    "from keras.models import Model\n",
    "\n",
    "def npair_predict(model: Model, test_gen: NPairDataGen):\n",
    "    \"\"\"Run prediction on NPair Generator and format as integer (y_true, y_pred).\"\"\"\n",
    "    preds = model.predict(test_gen)\n",
    "    preds = preds.reshape((-1, 2, 5, model.output.shape[-1]))\n",
    "\n",
    "    Y_pred: list[int] = []\n",
    "    Y_true: list[int] = []\n",
    "\n",
    "    for i, pred in enumerate(preds):\n",
    "        e_anchor = pred[0]\n",
    "        e_positive = pred[1]\n",
    "        y_pred = np.matmul(e_anchor, e_positive.T)\n",
    "        _, y_true = test_gen[i]\n",
    "        y_true = np.expand_dims(y_true, axis=-1)\n",
    "        y_true = np.equal(y_true, y_true.T).astype(y_pred.dtype)\n",
    "\n",
    "        y_true = np.argmax(y_true, axis=-1)\n",
    "        y_pred = np.argmax(y_pred, axis=-1)\n",
    "        \n",
    "        Y_pred.extend(list(y_pred))\n",
    "        Y_true.extend(list(y_true))\n",
    "    \n",
    "    return (Y_true, Y_pred)"
   ]
  },
  {
   "cell_type": "code",
   "execution_count": 20,
   "metadata": {},
   "outputs": [
    {
     "name": "stdout",
     "output_type": "stream",
     "text": [
      "305/305 [==============================] - 1s 3ms/step\n"
     ]
    }
   ],
   "source": [
    "y_true, y_pred = npair_predict(siamese_snn, test_gen)"
   ]
  },
  {
   "cell_type": "markdown",
   "metadata": {},
   "source": [
    "Looking at the confusion matrix, we can see our model's incorrect predictions are a lot more evenly distributed. No more significantly better or wore classes!"
   ]
  },
  {
   "cell_type": "code",
   "execution_count": 21,
   "metadata": {},
   "outputs": [
    {
     "data": {
      "image/png": "[encoded data removed]",
      "text/plain": [
       "<Figure size 500x500 with 1 Axes>"
      ]
     },
     "metadata": {},
     "output_type": "display_data"
    }
   ],
   "source": [
    "from core.viz import visualize_confusion_matrix\n",
    "\n",
    "unique_test_labels = list(set(y_test))\n",
    "reverse_label_map = {int_lbl: str_lbl for str_lbl, int_lbl in label_map.items()}\n",
    "str_test_labels = [reverse_label_map[lbl] for lbl in unique_test_labels]\n",
    "\n",
    "visualize_confusion_matrix(\n",
    "    y_true, y_pred,\n",
    "    str_test_labels,\n",
    "    f\"{FIG_DIR}/npair_loss_conf_matrix_naive.svg\"\n",
    ")"
   ]
  },
  {
   "cell_type": "code",
   "execution_count": 22,
   "metadata": {},
   "outputs": [],
   "source": [
    "categorical_dataset = dataset.load_categorical_numeric(\n",
    "    exclusive_test_labels=TEST_LABELS\n",
    ")\n",
    "\n",
    "x_test = categorical_dataset.x_test\n",
    "y_test = categorical_dataset.y_test\n",
    "label_map = categorical_dataset.label_map"
   ]
  },
  {
   "cell_type": "code",
   "execution_count": 23,
   "metadata": {},
   "outputs": [
    {
     "name": "stdout",
     "output_type": "stream",
     "text": [
      "Mean 5-way accuracy: 0.6881012658227849\n",
      "Min 5-way accuracy: 0.5164556962025316\n",
      "Max 5-way accuracy: 0.8107594936708861\n",
      "5-way accuracy std.: 0.09170787797256248\n"
     ]
    }
   ],
   "source": [
    "from core.util import evaluate_n_way_accuracy\n",
    "\n",
    "\n",
    "y_true, y_pred, mean_acc, min_acc, max_acc, std = evaluate_n_way_accuracy(\n",
    "    x_test,\n",
    "    y_test,\n",
    "    snn_encoder,\n",
    "    k_prototype=1,\n",
    "    iterations=10\n",
    ")\n",
    "\n",
    "print(\n",
    "    f\"Mean 5-way accuracy: {mean_acc}\\n\"\n",
    "    f\"Min 5-way accuracy: {min_acc}\\n\"\n",
    "    f\"Max 5-way accuracy: {max_acc}\\n\"\n",
    "    f\"5-way accuracy std.: {std}\"\n",
    ")"
   ]
  },
  {
   "cell_type": "code",
   "execution_count": 24,
   "metadata": {},
   "outputs": [
    {
     "data": {
      "image/png": "[encoded data removed]",
      "text/plain": [
       "<Figure size 500x500 with 1 Axes>"
      ]
     },
     "metadata": {},
     "output_type": "display_data"
    }
   ],
   "source": [
    "unique_test_labels = list(set(y_test))\n",
    "reverse_label_map = {int_lbl: str_lbl for str_lbl, int_lbl in label_map.items()}\n",
    "str_test_labels = [reverse_label_map[lbl] for lbl in unique_test_labels]\n",
    "\n",
    "visualize_confusion_matrix(\n",
    "    y_true, y_pred,\n",
    "    str_test_labels,\n",
    "    f\"{FIG_DIR}/npair_loss_conf_matrix.svg\"\n",
    ")"
   ]
  },
  {
   "cell_type": "code",
   "execution_count": 25,
   "metadata": {},
   "outputs": [
    {
     "name": "stdout",
     "output_type": "stream",
     "text": [
      "Mean 5-way accuracy (k-prototype = 1): 0.6881012658227849, std: 0.09170787797256248\n",
      "Mean 5-way accuracy (k-prototype = 3): 0.7623566878980893, std: 0.04683105588220703\n",
      "Mean 5-way accuracy (k-prototype = 5): 0.7905769230769232, std: 0.03675939726533856\n",
      "Mean 5-way accuracy (k-prototype = 10): 0.8099674267100976, std: 0.02482255673062977\n",
      "Mean 5-way accuracy (k-prototype = 15): 0.8010596026490064, std: 0.020043809743198374\n",
      "Mean 5-way accuracy (k-prototype = 20): 0.8119191919191919, std: 0.01721339103665997\n",
      "Mean 5-way accuracy (k-prototype = 50): 0.809812734082397, std: 0.009659436702926037\n",
      "Mean 5-way accuracy (k-prototype = 75): 0.8126446280991736, std: 0.013098847663907667\n",
      "Mean 5-way accuracy (k-prototype = 100): 0.812995391705069, std: 0.009412209722487828\n",
      "Saved Multi-Class N-Pair Loss metrics to metrics.json\n"
     ]
    }
   ],
   "source": [
    "from core.util import save_n_way_k_prototype_accuracy\n",
    "\n",
    "save_n_way_k_prototype_accuracy(\n",
    "    x_test,\n",
    "    y_test,\n",
    "    snn_encoder,\n",
    "    METRICS_FILEPATH,\n",
    "    \"Multi-Class N-Pair Loss\"\n",
    ")"
   ]
  },
  {
   "cell_type": "code",
   "execution_count": 26,
   "metadata": {},
   "outputs": [
    {
     "data": {
      "image/png": "[encoded data removed]",
      "text/plain": [
       "<Figure size 500x500 with 1 Axes>"
      ]
     },
     "metadata": {},
     "output_type": "display_data"
    }
   ],
   "source": [
    "y_true, y_pred, _, _, _, _ = evaluate_n_way_accuracy(\n",
    "    x_test,\n",
    "    y_test,\n",
    "    snn_encoder,\n",
    "    k_prototype=15,\n",
    "    iterations=10\n",
    ")\n",
    "\n",
    "visualize_confusion_matrix(\n",
    "    y_true, y_pred,\n",
    "    str_test_labels,\n",
    "    f\"{FIG_DIR}/npair_loss_conf_matrix_k15.svg\"\n",
    ")"
   ]
  },
  {
   "cell_type": "code",
   "execution_count": 27,
   "metadata": {},
   "outputs": [
    {
     "name": "stdout",
     "output_type": "stream",
     "text": [
      "50/50 [==============================] - 0s 3ms/step\n"
     ]
    }
   ],
   "source": [
    "# And get embeddings for the test data\n",
    "embeddings = snn_encoder.predict(x_test)"
   ]
  },
  {
   "cell_type": "code",
   "execution_count": 28,
   "metadata": {},
   "outputs": [
    {
     "name": "stdout",
     "output_type": "stream",
     "text": [
      "[t-SNE] Computing 91 nearest neighbors...\n",
      "[t-SNE] Indexed 1585 samples in 0.000s...\n",
      "[t-SNE] Computed neighbors for 1585 samples in 0.319s...\n",
      "[t-SNE] Computed conditional probabilities for sample 1000 / 1585\n",
      "[t-SNE] Computed conditional probabilities for sample 1585 / 1585\n",
      "[t-SNE] Mean sigma: 3.048883\n",
      "[t-SNE] KL divergence after 250 iterations with early exaggeration: 55.875130\n",
      "[t-SNE] KL divergence after 1000 iterations: 0.413897\n"
     ]
    }
   ],
   "source": [
    "from sklearn.manifold import TSNE\n",
    "\n",
    "# Fit T-SNE on embeddings\n",
    "tsne = TSNE(n_components=2, random_state=42, verbose=1)\n",
    "reduced_embeddings = tsne.fit_transform(embeddings)"
   ]
  },
  {
   "cell_type": "markdown",
   "metadata": {},
   "source": [
    "Interestingly, the dimension-reduced embeddings still show a significant overlap for the \"u\" and \"v\" classes. This is especially confusing, because our model features no non-linear layers past the embedding layer."
   ]
  },
  {
   "cell_type": "code",
   "execution_count": 29,
   "metadata": {},
   "outputs": [
    {
     "data": {
      "image/png": "[encoded data removed]",
      "text/plain": [
       "<Figure size 500x300 with 1 Axes>"
      ]
     },
     "metadata": {},
     "output_type": "display_data"
    }
   ],
   "source": [
    "from core.viz import visualize_embeddings\n",
    "\n",
    "# Visualize embeddings in scatter plot\n",
    "visualize_embeddings(\n",
    "    reduced_embeddings,\n",
    "    y_test,\n",
    "    label_map,\n",
    "    f\"{FIG_DIR}/npair_loss_embeddings.svg\"\n",
    ")"
   ]
  }
 ],
 "metadata": {
  "kernelspec": {
   "display_name": "venv",
   "language": "python",
   "name": "python3"
  },
  "language_info": {
   "codemirror_mode": {
    "name": "ipython",
    "version": 3
   },
   "file_extension": ".py",
   "mimetype": "text/x-python",
   "name": "python",
   "nbconvert_exporter": "python",
   "pygments_lexer": "ipython3",
   "version": "3.10.11"
  }
 },
 "nbformat": 4,
 "nbformat_minor": 2
}
