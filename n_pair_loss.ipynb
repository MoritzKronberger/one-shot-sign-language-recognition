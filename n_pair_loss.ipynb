{
 "cells": [
  {
   "cell_type": "markdown",
   "metadata": {},
   "source": [
    "# Multi-Class N-Pair Loss"
   ]
  },
  {
   "cell_type": "code",
   "execution_count": 1,
   "metadata": {},
   "outputs": [],
   "source": [
    "from pathlib import Path\n",
    "\n",
    "METRICS_FILEPATH = \"metrics.json\"\n",
    "\n",
    "MODEL_DIR = \"models\"\n",
    "FIG_DIR = \"figures\"\n",
    "\n",
    "# Create output directories if not exist\n",
    "Path(MODEL_DIR).mkdir(parents=True, exist_ok=True)\n",
    "Path(FIG_DIR).mkdir(parents=True, exist_ok=True)"
   ]
  },
  {
   "cell_type": "markdown",
   "metadata": {},
   "source": [
    "## Intuition\n",
    "\n",
    "When One-Shot classifying, the model will have to compare the query sample against a single positive and multitude of negatives.\n",
    "[Multi-Class N-Pair Loss](https://lilianweng.github.io/posts/2021-05-31-contrastive/#n-pair-loss) mimics this scenario.\n",
    "\n",
    "We'll reserve the in-depth technical explanation for the report and just try to get some intuition for the loss function:\n",
    "\n",
    "- The model will be structured as a Siamese Neural Network\n",
    "- For every batch, we input $N$ positive pairs into the models (each corresponding to a different class)\n",
    "- Both branches of the Siamese Network will therefore output $N$ embeddings per batch\n",
    "\n",
    "Assume we formed $N=3$ pairs and our model outputs 4D embeddings. We could form two embedding matrices such that each row represents a sample's embedding:\n",
    "\n",
    "$$\n",
    "E_1 =\n",
    "\\begin{pmatrix}\n",
    "5 & 1 & 1 & 14 \\\\\n",
    "1 & 7 & 10 & 0 \\\\\n",
    "15 & 8 & 1 & 3\n",
    "\\end{pmatrix}\n",
    "$$\n",
    "\n",
    "$$\n",
    "E_2 =\n",
    "\\begin{pmatrix}\n",
    "4 & 0 & 1 & 17 \\\\\n",
    "0 & 6 & 11 & 0 \\\\\n",
    "13 & 10 & 0 & 2\n",
    "\\end{pmatrix}\n",
    "$$\n",
    "\n",
    "(Notice the similarity between the same rows (= the same samples) across the matrices and the dissimilarity across the rows of a single matrix (= different samples).)\n",
    "\n",
    "We can transpose one of the embedding matrices and multiply it with the other:\n",
    "\n",
    "$$\n",
    "\\begin{pmatrix}\n",
    "5 & 1 & 1 & 14 \\\\\n",
    "1 & 7 & 10 & 0 \\\\\n",
    "15 & 8 & 1 & 3\n",
    "\\end{pmatrix}\n",
    "\n",
    "\\cdot\n",
    "\n",
    "\\begin{pmatrix}\n",
    "4 & 0 & 13 \\\\\n",
    "0 & 6 & 10 \\\\\n",
    "1 & 11 & 0 \\\\\n",
    "17 & 0 & 2\n",
    "\\end{pmatrix}\n",
    "\n",
    "=\n",
    "\n",
    "\\begin{pmatrix}\n",
    "259 & 17 & 103 \\\\\n",
    "14 & 152 & 83 \\\\\n",
    "112 & 59 & 281\n",
    "\\end{pmatrix}\n",
    "$$\n",
    "\n",
    "\n",
    "$\\rightarrow$ We calculated a similarity matrix between all the embeddings in the batch.\n",
    "\n",
    "Every $\\text{cell}_{i, j}$ represents the similarity between the embedding in $\\text{row}_i$ of $E_1$ and $\\text{row}_j$ of $E_2$.\n",
    "\n",
    "If we computed the `argmax` for each row, we would end up with a one-hot categorical matrix for the batch:\n",
    "\n",
    "$$\n",
    "\\begin{pmatrix}\n",
    "1 & 0 & 0 \\\\\n",
    "0 & 1 & 0 \\\\\n",
    "0 & 0 & 1\n",
    "\\end{pmatrix}\n",
    "$$\n",
    "\n",
    "We could now use Categorical Crossentropy as the loss function."
   ]
  },
  {
   "cell_type": "markdown",
   "metadata": {},
   "source": [
    "## One-Shot Classification using Multi-Class N-Pair Loss\n",
    "\n",
    "For our experiment we'll choose $N=19$, meaning every batch will contain exactly one matching pair for every class in the training set.\n",
    "\n",
    "To accomplish this, we'll use a custom [Keras data generator](https://www.tensorflow.org/api_docs/python/tf/keras/utils/Sequence):"
   ]
  },
  {
   "cell_type": "code",
   "execution_count": 2,
   "metadata": {},
   "outputs": [],
   "source": [
    "import random\n",
    "import numpy as np\n",
    "import numpy.typing as npt\n",
    "from keras.utils import Sequence\n",
    "from sklearn.utils import shuffle\n",
    "\n",
    "class NPairDataGen(Sequence):\n",
    "    \"\"\"Custom data generator.\n",
    "    \n",
    "    Reference:\n",
    "        https://medium.com/analytics-vidhya/write-your-own-custom-data-generator-for-tensorflow-keras-1252b64e41c3\n",
    "    \"\"\"\n",
    "\n",
    "    x: npt.NDArray[np.float32]\n",
    "    y: npt.NDArray[np.int_]\n",
    "    unique_labels: npt.NDArray[np.int_]\n",
    "    num_classes: int\n",
    "    num_samples_per_class: int\n",
    "    \n",
    "    def __init__(\n",
    "        self,\n",
    "        x: npt.NDArray[np.float32],\n",
    "        y_numeric: npt.NDArray[np.int_]\n",
    "    ):\n",
    "        self.x = x.copy()\n",
    "        self.y = y_numeric.copy()\n",
    "\n",
    "        # Sort samples by label (in case they were shuffled)\n",
    "        sort_idx = np.argsort(self.y)\n",
    "        self.x = self.x[sort_idx]\n",
    "        self.y = self.y[sort_idx]\n",
    "\n",
    "        # Determine the class with the least amount of samples\n",
    "        self.unique_labels, counts = np.unique(self.y, return_counts=True)\n",
    "        self.num_classes = len(self.unique_labels)\n",
    "        min_count = np.min(counts)\n",
    "\n",
    "        # Reduce label count for each class to min amount of samples\n",
    "        reduced_y = np.repeat(self.unique_labels, min_count)\n",
    "        \n",
    "        # Pick the data according to the reduced labels\n",
    "        reduced_x: list[npt.NDArray[np.float32]] = []\n",
    "        for label in self.unique_labels:\n",
    "            indices = np.where(self.y == label)[0][:min_count]\n",
    "            reduced_x.extend(list(self.x[indices]))\n",
    "\n",
    "        self.y = reduced_y\n",
    "        self.x = np.array(reduced_x)\n",
    "        self.num_samples_per_class = min_count\n",
    "\n",
    "    def on_epoch_end(self):\n",
    "        pass\n",
    "\n",
    "    def __get_random_matching_index(self, y: int, Y: npt.NDArray[np.int_]) -> int:\n",
    "        matching_indices = np.where(Y == y)[0]\n",
    "        matching_idx = random.choice(matching_indices)\n",
    "        assert Y[matching_idx] == y\n",
    "        return matching_idx\n",
    "    \n",
    "    def __getitem__(self, batch_index: int) -> tuple[npt.NDArray[np.float32], npt.NDArray[np.int_]]:\n",
    "        \"\"\"Get n-Pair batch.\"\"\"\n",
    "        X_anchor = self.x[batch_index::self.num_samples_per_class]\n",
    "        Y_anchor = self.y[batch_index::self.num_samples_per_class]\n",
    "        X_anchor, Y_anchor = shuffle(X_anchor, Y_anchor)\n",
    "\n",
    "        # Get random positive sample for each anchor\n",
    "        X_positive = np.array(\n",
    "            [self.x[self.__get_random_matching_index(y, self.y)] for y in Y_anchor]\n",
    "        )\n",
    "\n",
    "        return (\n",
    "            [X_anchor, X_positive],\n",
    "            Y_anchor,\n",
    "        )\n",
    "\n",
    "    \n",
    "    def __len__(self):\n",
    "        return self.num_samples_per_class"
   ]
  },
  {
   "cell_type": "markdown",
   "metadata": {},
   "source": [
    "We'll pass the dataset into the generator as regular categorical data:"
   ]
  },
  {
   "cell_type": "code",
   "execution_count": 3,
   "metadata": {},
   "outputs": [
    {
     "name": "stdout",
     "output_type": "stream",
     "text": [
      "Warning: Your Kaggle API key is readable by other users on this system! To fix this, you can run 'chmod 600 /Users/moritz/.kaggle/kaggle.json'\n"
     ]
    }
   ],
   "source": [
    "from sklearn.model_selection import train_test_split\n",
    "from core.dataset import DGSAlphabet\n",
    "\n",
    "TEST_LABELS = ['u', 'v', 'w', 'x', 'y']\n",
    "\n",
    "# Import the dataset\n",
    "dataset = DGSAlphabet()\n",
    "categorical_dataset = dataset.load_categorical_numeric(\n",
    "    exclusive_test_labels=TEST_LABELS\n",
    ")\n",
    "x_train_val = categorical_dataset.x_train\n",
    "y_train_val = categorical_dataset.y_train\n",
    "x_test = categorical_dataset.x_test\n",
    "y_test = categorical_dataset.y_test\n",
    "label_map = categorical_dataset.label_map\n",
    "\n",
    "x_train, x_val, y_train, y_val = train_test_split(\n",
    "    x_train_val,\n",
    "    y_train_val,\n",
    "    test_size=0.2,\n",
    "    shuffle=True,\n",
    "    random_state=42\n",
    ")"
   ]
  },
  {
   "cell_type": "markdown",
   "metadata": {},
   "source": [
    "We'll instantiate a batch for the training set.\n",
    "\n",
    "If we take a look at a single batch's labels, we can observe exactly one label per class:"
   ]
  },
  {
   "cell_type": "code",
   "execution_count": 4,
   "metadata": {},
   "outputs": [
    {
     "data": {
      "text/plain": [
       "array([13,  8,  6,  9, 17, 16,  1, 14, 10,  2,  7,  4,  0, 15,  5, 11, 18,\n",
       "       12,  3])"
      ]
     },
     "execution_count": 4,
     "metadata": {},
     "output_type": "execute_result"
    }
   ],
   "source": [
    "train_gen = NPairDataGen(x_train, y_train)\n",
    "\n",
    "x_batch, y_batch = train_gen.__getitem__(0)\n",
    "y_batch"
   ]
  },
  {
   "cell_type": "markdown",
   "metadata": {},
   "source": [
    "We can also see, that the number of batches matches the minimum number of per class samples in the training set:"
   ]
  },
  {
   "cell_type": "code",
   "execution_count": 6,
   "metadata": {},
   "outputs": [
    {
     "name": "stdout",
     "output_type": "stream",
     "text": [
      "4576 203\n"
     ]
    }
   ],
   "source": [
    "train_gen.__len__()"
   ]
  },
  {
   "cell_type": "markdown",
   "metadata": {},
   "source": [
    "And an additional generator for the validation set:"
   ]
  },
  {
   "cell_type": "code",
   "execution_count": 5,
   "metadata": {},
   "outputs": [],
   "source": [
    "val_gen = NPairDataGen(x_val, y_val)"
   ]
  },
  {
   "cell_type": "markdown",
   "metadata": {},
   "source": [
    "We'll be using the [`npairs_loss` function from the TensorFlow Addons library](https://www.tensorflow.org/addons/api_docs/python/tfa/losses/npairs_loss).\n",
    "\n",
    "As per its documentation, we'll need to handle the computation of the similarity matrix ourselves:"
   ]
  },
  {
   "cell_type": "code",
   "execution_count": 7,
   "metadata": {},
   "outputs": [
    {
     "name": "stderr",
     "output_type": "stream",
     "text": [
      "/Users/moritz/Documents/Hochschule Augsburg/Semester 2 - Master/Data Science/project/venv/lib/python3.10/site-packages/tensorflow_addons/utils/tfa_eol_msg.py:23: UserWarning: \n",
      "\n",
      "TensorFlow Addons (TFA) has ended development and introduction of new features.\n",
      "TFA has entered a minimal maintenance and release mode until a planned end of life in May 2024.\n",
      "Please modify downstream libraries to take dependencies from other repositories in our TensorFlow community (e.g. Keras, Keras-CV, and Keras-NLP). \n",
      "\n",
      "For more information see: https://github.com/tensorflow/addons/issues/2807 \n",
      "\n",
      "  warnings.warn(\n"
     ]
    }
   ],
   "source": [
    "import tensorflow as tf\n",
    "from tensorflow_addons.losses import npairs_loss\n",
    "\n",
    "def npair_loss(y_true: tf.Tensor, embeddings: tf.Tensor):\n",
    "    \"\"\"N-Pair Loss for batch for anchor and positive embeddings.ipynb\n",
    "    \n",
    "    Reference:\n",
    "        https://www.tensorflow.org/addons/api_docs/python/tfa/losses/npairs_loss\n",
    "    \"\"\"\n",
    "    e_anchor = embeddings[0]\n",
    "    e_positive = embeddings[1]\n",
    "    y_pred = tf.matmul(e_anchor, e_positive, transpose_a=False, transpose_b=True)\n",
    "    return npairs_loss(y_true, y_pred)\n",
    "    "
   ]
  },
  {
   "cell_type": "markdown",
   "metadata": {},
   "source": [
    "We'll instantiate the model as a Siamese Neural Network, but exclude the merge/distance layer in order to output two separate embeddings.\n",
    "\n",
    "We'll again optimize the model configuration using a Keras Tuner.\n",
    "\n",
    "Interestingly, not including any Batch Normalization causes our model to collapse after ~2 epochs, outputting only constant values. To speed up the tuning process we'll therefore force the use of a BatchNorm layer:"
   ]
  },
  {
   "cell_type": "code",
   "execution_count": 8,
   "metadata": {},
   "outputs": [],
   "source": [
    "from core.util import new_SNN_builder\n",
    "\n",
    "# Create model builder for Keras Tuner\n",
    "build_model = new_SNN_builder(\n",
    "    mode=\"siamese\",\n",
    "    loss=npair_loss,\n",
    "    distance=None,\n",
    "    siamese_sigmoid_output=False,\n",
    "    force_embedding_bn=True\n",
    ")"
   ]
  },
  {
   "cell_type": "code",
   "execution_count": 9,
   "metadata": {},
   "outputs": [],
   "source": [
    "# Tuning Hyperparameters\n",
    "# https://keras.io/api/keras_tuner/tuners/hyperband\n",
    "MAX_EPOCHS = 150\n",
    "FACTOR = 3\n",
    "HYPERBAND_ITERATIONS = 1\n",
    "SEED = 42\n",
    "\n",
    "# Where to save tuner checkpoints\n",
    "TUNER_DIR = \"tuner\"\n",
    "PROJECT = \"npair_loss\""
   ]
  },
  {
   "cell_type": "code",
   "execution_count": 10,
   "metadata": {},
   "outputs": [
    {
     "name": "stdout",
     "output_type": "stream",
     "text": [
      "Reloading Tuner from tuner/npair_loss/tuner0.json\n",
      "Search space summary\n",
      "Default search space size: 7\n",
      "dense_count (Int)\n",
      "{'default': None, 'conditions': [], 'min_value': 2, 'max_value': 10, 'step': 2, 'sampling': 'linear'}\n",
      "dense_base (Int)\n",
      "{'default': None, 'conditions': [], 'min_value': 8, 'max_value': 64, 'step': 8, 'sampling': 'linear'}\n",
      "encoder_dropout (Boolean)\n",
      "{'default': False, 'conditions': []}\n",
      "start_lr (Float)\n",
      "{'default': 5e-05, 'conditions': [], 'min_value': 5e-05, 'max_value': 0.001, 'step': 5e-05, 'sampling': 'linear'}\n",
      "beta_1 (Float)\n",
      "{'default': 0.7, 'conditions': [], 'min_value': 0.7, 'max_value': 0.9, 'step': 0.1, 'sampling': 'linear'}\n",
      "beta_2 (Float)\n",
      "{'default': 0.99, 'conditions': [], 'min_value': 0.99, 'max_value': 0.999, 'step': 0.001, 'sampling': 'linear'}\n",
      "epsilon (Float)\n",
      "{'default': 0.001, 'conditions': [], 'min_value': 0.001, 'max_value': 0.01, 'step': 0.001, 'sampling': 'linear'}\n"
     ]
    }
   ],
   "source": [
    "import keras_tuner\n",
    "\n",
    "tuner = keras_tuner.Hyperband(\n",
    "    hypermodel=build_model,\n",
    "    objective=\"val_loss\",\n",
    "    max_epochs=MAX_EPOCHS,\n",
    "    factor=FACTOR,\n",
    "    hyperband_iterations=HYPERBAND_ITERATIONS,\n",
    "    seed=SEED,\n",
    "    directory=TUNER_DIR,\n",
    "    project_name=PROJECT\n",
    ")\n",
    "\n",
    "tuner.search_space_summary()"
   ]
  },
  {
   "cell_type": "markdown",
   "metadata": {},
   "source": [
    "We'll use the same callbacks as for the classification training."
   ]
  },
  {
   "cell_type": "code",
   "execution_count": 11,
   "metadata": {},
   "outputs": [
    {
     "name": "stdout",
     "output_type": "stream",
     "text": [
      "Loading history from JSON tuner/npair_loss/history.json\n"
     ]
    }
   ],
   "source": [
    "from core.util import new_default_callbacks, TunerHistoryCallback\n",
    "\n",
    "# Reduce learning rate if no improvement is made\n",
    "reduce_lr, early_stop = new_default_callbacks(\n",
    "    monitor=\"val_loss\",\n",
    "    mode=\"min\",\n",
    "    lr_reduce_factor=0.2,\n",
    "    lr_reduce_patience=5,\n",
    "    verbose=1\n",
    ")\n",
    "\n",
    "# Keep track of histories for every tuner trial\n",
    "tuner_history_cb = TunerHistoryCallback(tuner)"
   ]
  },
  {
   "cell_type": "markdown",
   "metadata": {},
   "source": [
    "Notice that we are not defining a batch size, our data generator handles this implicitly:"
   ]
  },
  {
   "cell_type": "code",
   "execution_count": 12,
   "metadata": {},
   "outputs": [],
   "source": [
    "tuner.search(\n",
    "    train_gen,\n",
    "    validation_data=val_gen,\n",
    "    callbacks=[reduce_lr, early_stop, tuner_history_cb]\n",
    ")"
   ]
  },
  {
   "cell_type": "code",
   "execution_count": 13,
   "metadata": {},
   "outputs": [
    {
     "name": "stdout",
     "output_type": "stream",
     "text": [
      "Results summary\n",
      "Results in tuner/npair_loss\n",
      "Showing 10 best trials\n",
      "Objective(name=\"val_loss\", direction=\"min\")\n",
      "\n",
      "Trial 0200 summary\n",
      "Hyperparameters:\n",
      "dense_count: 6\n",
      "dense_base: 48\n",
      "encoder_dropout: False\n",
      "start_lr: 0.0008\n",
      "beta_1: 0.7\n",
      "beta_2: 0.999\n",
      "epsilon: 0.007\n",
      "tuner/epochs: 150\n",
      "tuner/initial_epoch: 50\n",
      "tuner/bracket: 3\n",
      "tuner/round: 3\n",
      "tuner/trial_id: 0199\n",
      "Score: 0.09478799253702164\n",
      "\n",
      "Trial 0237 summary\n",
      "Hyperparameters:\n",
      "dense_count: 6\n",
      "dense_base: 8\n",
      "encoder_dropout: False\n",
      "start_lr: 0.0008\n",
      "beta_1: 0.7999999999999999\n",
      "beta_2: 0.998\n",
      "epsilon: 0.007\n",
      "tuner/epochs: 150\n",
      "tuner/initial_epoch: 50\n",
      "tuner/bracket: 1\n",
      "tuner/round: 1\n",
      "tuner/trial_id: 0231\n",
      "Score: 0.11346976459026337\n",
      "\n",
      "Trial 0199 summary\n",
      "Hyperparameters:\n",
      "dense_count: 6\n",
      "dense_base: 48\n",
      "encoder_dropout: False\n",
      "start_lr: 0.0008\n",
      "beta_1: 0.7\n",
      "beta_2: 0.999\n",
      "epsilon: 0.007\n",
      "tuner/epochs: 50\n",
      "tuner/initial_epoch: 17\n",
      "tuner/bracket: 3\n",
      "tuner/round: 2\n",
      "tuner/trial_id: 0184\n",
      "Score: 0.12179848551750183\n",
      "\n",
      "Trial 0201 summary\n",
      "Hyperparameters:\n",
      "dense_count: 6\n",
      "dense_base: 8\n",
      "encoder_dropout: False\n",
      "start_lr: 0.0005\n",
      "beta_1: 0.7999999999999999\n",
      "beta_2: 0.992\n",
      "epsilon: 0.008\n",
      "tuner/epochs: 150\n",
      "tuner/initial_epoch: 50\n",
      "tuner/bracket: 3\n",
      "tuner/round: 3\n",
      "tuner/trial_id: 0198\n",
      "Score: 0.14403314888477325\n",
      "\n",
      "Trial 0226 summary\n",
      "Hyperparameters:\n",
      "dense_count: 8\n",
      "dense_base: 64\n",
      "encoder_dropout: False\n",
      "start_lr: 0.00055\n",
      "beta_1: 0.7\n",
      "beta_2: 0.994\n",
      "epsilon: 0.004\n",
      "tuner/epochs: 150\n",
      "tuner/initial_epoch: 50\n",
      "tuner/bracket: 2\n",
      "tuner/round: 2\n",
      "tuner/trial_id: 0220\n",
      "Score: 0.17372968792915344\n",
      "\n",
      "Trial 0241 summary\n",
      "Hyperparameters:\n",
      "dense_count: 4\n",
      "dense_base: 56\n",
      "encoder_dropout: True\n",
      "start_lr: 0.0009500000000000001\n",
      "beta_1: 0.7999999999999999\n",
      "beta_2: 0.995\n",
      "epsilon: 0.010000000000000002\n",
      "tuner/epochs: 150\n",
      "tuner/initial_epoch: 0\n",
      "tuner/bracket: 0\n",
      "tuner/round: 0\n",
      "Score: 0.1774265170097351\n",
      "\n",
      "Trial 0238 summary\n",
      "Hyperparameters:\n",
      "dense_count: 6\n",
      "dense_base: 32\n",
      "encoder_dropout: True\n",
      "start_lr: 0.00030000000000000003\n",
      "beta_1: 0.7999999999999999\n",
      "beta_2: 0.993\n",
      "epsilon: 0.002\n",
      "tuner/epochs: 150\n",
      "tuner/initial_epoch: 50\n",
      "tuner/bracket: 1\n",
      "tuner/round: 1\n",
      "tuner/trial_id: 0235\n",
      "Score: 0.18200774490833282\n",
      "\n",
      "Trial 0220 summary\n",
      "Hyperparameters:\n",
      "dense_count: 8\n",
      "dense_base: 64\n",
      "encoder_dropout: False\n",
      "start_lr: 0.00055\n",
      "beta_1: 0.7\n",
      "beta_2: 0.994\n",
      "epsilon: 0.004\n",
      "tuner/epochs: 50\n",
      "tuner/initial_epoch: 17\n",
      "tuner/bracket: 2\n",
      "tuner/round: 1\n",
      "tuner/trial_id: 0212\n",
      "Score: 0.19560083746910095\n",
      "\n",
      "Trial 0198 summary\n",
      "Hyperparameters:\n",
      "dense_count: 6\n",
      "dense_base: 8\n",
      "encoder_dropout: False\n",
      "start_lr: 0.0005\n",
      "beta_1: 0.7999999999999999\n",
      "beta_2: 0.992\n",
      "epsilon: 0.008\n",
      "tuner/epochs: 50\n",
      "tuner/initial_epoch: 17\n",
      "tuner/bracket: 3\n",
      "tuner/round: 2\n",
      "tuner/trial_id: 0189\n",
      "Score: 0.22270122170448303\n",
      "\n",
      "Trial 0196 summary\n",
      "Hyperparameters:\n",
      "dense_count: 4\n",
      "dense_base: 16\n",
      "encoder_dropout: True\n",
      "start_lr: 0.0009000000000000001\n",
      "beta_1: 0.7999999999999999\n",
      "beta_2: 0.996\n",
      "epsilon: 0.003\n",
      "tuner/epochs: 50\n",
      "tuner/initial_epoch: 17\n",
      "tuner/bracket: 3\n",
      "tuner/round: 2\n",
      "tuner/trial_id: 0182\n",
      "Score: 0.22276607155799866\n"
     ]
    }
   ],
   "source": [
    "tuner.results_summary()"
   ]
  },
  {
   "cell_type": "markdown",
   "metadata": {},
   "source": [
    "Since we want convenient access to the model's encoder part, we'll re-instantiate the model with the best architecture and transfer the best model's weights:"
   ]
  },
  {
   "cell_type": "code",
   "execution_count": 14,
   "metadata": {},
   "outputs": [
    {
     "name": "stderr",
     "output_type": "stream",
     "text": [
      "WARNING:absl:At this time, the v2.11+ optimizer `tf.keras.optimizers.Adam` runs slowly on M1/M2 Macs, please use the legacy Keras optimizer instead, located at `tf.keras.optimizers.legacy.Adam`.\n",
      "WARNING:absl:At this time, the v2.11+ optimizer `tf.keras.optimizers.Adam` runs slowly on M1/M2 Macs, please use the legacy Keras optimizer instead, located at `tf.keras.optimizers.legacy.Adam`.\n"
     ]
    },
    {
     "name": "stdout",
     "output_type": "stream",
     "text": [
      "Model: \"SNN_6_siamese\"\n",
      "__________________________________________________________________________________________________\n",
      " Layer (type)                Output Shape                 Param #   Connected to                  \n",
      "==================================================================================================\n",
      " input_3 (InputLayer)        [(None, 21, 3)]              0         []                            \n",
      "                                                                                                  \n",
      " input_4 (InputLayer)        [(None, 21, 3)]              0         []                            \n",
      "                                                                                                  \n",
      " SNN_6_encoder (Functional)  (None, 48)                   3532374   ['input_3[0][0]',             \n",
      "                                                                     'input_4[0][0]']             \n",
      "                                                                                                  \n",
      " lambda_1 (Lambda)           (2, None, 48)                0         ['SNN_6_encoder[0][0]',       \n",
      "                                                                     'SNN_6_encoder[1][0]']       \n",
      "                                                                                                  \n",
      " batch_normalization_1 (Bat  (2, None, 48)                192       ['lambda_1[0][0]']            \n",
      " chNormalization)                                                                                 \n",
      "                                                                                                  \n",
      "==================================================================================================\n",
      "Total params: 3532566 (13.48 MB)\n",
      "Trainable params: 3532470 (13.48 MB)\n",
      "Non-trainable params: 96 (384.00 Byte)\n",
      "__________________________________________________________________________________________________\n",
      "Model: \"SNN_6_encoder\"\n",
      "_________________________________________________________________\n",
      " Layer (type)                Output Shape              Param #   \n",
      "=================================================================\n",
      " Landmark_Input (InputLayer  [(None, 21, 3)]           0         \n",
      " )                                                               \n",
      "                                                                 \n",
      " Layer_Norm (LayerNormaliza  (None, 21, 3)             6         \n",
      " tion)                                                           \n",
      "                                                                 \n",
      " Flatten_Landmarks (Flatten  (None, 63)                0         \n",
      " )                                                               \n",
      "                                                                 \n",
      " Dense_1 (Dense)             (None, 1728)              110592    \n",
      "                                                                 \n",
      " Dense_2 (Dense)             (None, 1200)              2074800   \n",
      "                                                                 \n",
      " Dense_3 (Dense)             (None, 768)               922368    \n",
      "                                                                 \n",
      " Dense_4 (Dense)             (None, 432)               332208    \n",
      "                                                                 \n",
      " Dense_5 (Dense)             (None, 192)               83136     \n",
      "                                                                 \n",
      " Dense_6 (Dense)             (None, 48)                9264      \n",
      "                                                                 \n",
      "=================================================================\n",
      "Total params: 3532374 (13.47 MB)\n",
      "Trainable params: 3532374 (13.47 MB)\n",
      "Non-trainable params: 0 (0.00 Byte)\n",
      "_________________________________________________________________\n"
     ]
    }
   ],
   "source": [
    "# Get history of best model training\n",
    "best_trial = tuner.oracle.get_best_trials(1)[0]\n",
    "best_model_history = tuner_history_cb.get_trial_history(\n",
    "    best_trial.trial_id\n",
    ")\n",
    "\n",
    "# Get weights of best model\n",
    "best_model = tuner.get_best_models(1)[0]\n",
    "best_weights = best_model.weights\n",
    "\n",
    "# Re-create best architecture\n",
    "best_hyper_params = tuner.get_best_hyperparameters(1)[0]\n",
    "snn_encoder, siamese_snn = build_model(best_hyper_params, get_encoder=True)\n",
    "siamese_snn.set_weights(best_weights)\n",
    "\n",
    "siamese_snn.summary()\n",
    "snn_encoder.summary()"
   ]
  },
  {
   "cell_type": "markdown",
   "metadata": {},
   "source": [
    "Let's save the best model and take a look at its training history:"
   ]
  },
  {
   "cell_type": "code",
   "execution_count": 15,
   "metadata": {},
   "outputs": [],
   "source": [
    "siamese_snn.save(f\"{MODEL_DIR}/npair_loss.keras\")"
   ]
  },
  {
   "cell_type": "markdown",
   "metadata": {},
   "source": [
    "We can notice extreme spikes in the model's validation accuracy. They are so large, that we'll use a logarithmic y-axis scale:"
   ]
  },
  {
   "cell_type": "code",
   "execution_count": 16,
   "metadata": {},
   "outputs": [
    {
     "data": {
      "image/png": "[encoded data removed]",
      "text/plain": [
       "<Figure size 500x300 with 1 Axes>"
      ]
     },
     "metadata": {},
     "output_type": "display_data"
    }
   ],
   "source": [
    "from core.viz import visualize_history\n",
    "\n",
    "visualize_history(\n",
    "    best_model_history,\n",
    "    [\"loss\"],\n",
    "    \"Multi-Class N-Pair Loss\",\n",
    "    f\"{FIG_DIR}/npair_loss_history.svg\",\n",
    "    log_yscale=True\n",
    ")"
   ]
  },
  {
   "cell_type": "markdown",
   "metadata": {},
   "source": [
    "Let's see if our model performs well despite those loss spikes.\n",
    "\n",
    "A naive way of evaluating the model's One-Shot classification accuracy would be to use the same batch generation method for the test set:"
   ]
  },
  {
   "cell_type": "code",
   "execution_count": 17,
   "metadata": {},
   "outputs": [],
   "source": [
    "test_gen = NPairDataGen(x_test, y_test)"
   ]
  },
  {
   "cell_type": "code",
   "execution_count": 18,
   "metadata": {},
   "outputs": [
    {
     "name": "stdout",
     "output_type": "stream",
     "text": [
      "++++++++++++ Test data ++++++++++++\n",
      "loss=0.8545\n"
     ]
    }
   ],
   "source": [
    "loss = siamese_snn.evaluate(test_gen, verbose=0)\n",
    "print(f'++++++++++++ Test data ++++++++++++\\nloss={loss:.4f}')"
   ]
  },
  {
   "cell_type": "code",
   "execution_count": 19,
   "metadata": {},
   "outputs": [],
   "source": [
    "from keras.models import Model\n",
    "\n",
    "def npair_predict(model: Model, test_gen: NPairDataGen):\n",
    "    \"\"\"Run prediction on NPair Generator and format as integer (y_true, y_pred).\"\"\"\n",
    "    preds = model.predict(test_gen)\n",
    "    preds = preds.reshape((-1, 2, 5, model.output.shape[-1]))\n",
    "\n",
    "    Y_pred: list[int] = []\n",
    "    Y_true: list[int] = []\n",
    "\n",
    "    for i, pred in enumerate(preds):\n",
    "        e_anchor = pred[0]\n",
    "        e_positive = pred[1]\n",
    "        y_pred = np.matmul(e_anchor, e_positive.T)\n",
    "        _, y_true = test_gen[i]\n",
    "        y_true = np.expand_dims(y_true, axis=-1)\n",
    "        y_true = np.equal(y_true, y_true.T).astype(y_pred.dtype)\n",
    "\n",
    "        y_true = np.argmax(y_true, axis=-1)\n",
    "        y_pred = np.argmax(y_pred, axis=-1)\n",
    "        \n",
    "        Y_pred.extend(list(y_pred))\n",
    "        Y_true.extend(list(y_true))\n",
    "    \n",
    "    return (Y_true, Y_pred)"
   ]
  },
  {
   "cell_type": "code",
   "execution_count": 20,
   "metadata": {},
   "outputs": [
    {
     "name": "stdout",
     "output_type": "stream",
     "text": [
      "305/305 [==============================] - 1s 3ms/step\n"
     ]
    }
   ],
   "source": [
    "y_true, y_pred = npair_predict(siamese_snn, test_gen)"
   ]
  },
  {
   "cell_type": "markdown",
   "metadata": {},
   "source": [
    "Doing so would result in a very even distribution of classification errors, which seems like a great success:"
   ]
  },
  {
   "cell_type": "code",
   "execution_count": 21,
   "metadata": {},
   "outputs": [
    {
     "data": {
      "image/png": "[encoded data removed]",
      "text/plain": [
       "<Figure size 500x500 with 1 Axes>"
      ]
     },
     "metadata": {},
     "output_type": "display_data"
    }
   ],
   "source": [
    "from core.viz import visualize_confusion_matrix\n",
    "\n",
    "unique_test_labels = list(set(y_test))\n",
    "reverse_label_map = {int_lbl: str_lbl for str_lbl, int_lbl in label_map.items()}\n",
    "str_test_labels = [reverse_label_map[lbl] for lbl in unique_test_labels]\n",
    "\n",
    "visualize_confusion_matrix(\n",
    "    y_true, y_pred,\n",
    "    str_test_labels,\n",
    "    f\"{FIG_DIR}/npair_loss_conf_matrix_naive.svg\"\n",
    ")"
   ]
  },
  {
   "cell_type": "markdown",
   "metadata": {},
   "source": [
    "However, we have to remember, that the custom batch construction method feeds only positive pairs into the model.\n",
    "\n",
    "For actual predictions this is impossible to do: if we knew which samples were similar and wich dissimilar we would not need a classifier.\n",
    "\n",
    "Therefore, we'll once again separate the encoder part of the model and evaluate it the same way we evaluated the Contrastive and Triplet Loss models:"
   ]
  },
  {
   "cell_type": "code",
   "execution_count": 22,
   "metadata": {},
   "outputs": [],
   "source": [
    "categorical_dataset = dataset.load_categorical_numeric(\n",
    "    exclusive_test_labels=TEST_LABELS\n",
    ")\n",
    "\n",
    "x_test = categorical_dataset.x_test\n",
    "y_test = categorical_dataset.y_test\n",
    "label_map = categorical_dataset.label_map"
   ]
  },
  {
   "cell_type": "markdown",
   "metadata": {},
   "source": [
    "The Multi-Class N-Pair Loss models One-Shot 5-way accuracy remains lower than the accuracy achieved using Contrastive Loss:"
   ]
  },
  {
   "cell_type": "code",
   "execution_count": 23,
   "metadata": {},
   "outputs": [
    {
     "name": "stdout",
     "output_type": "stream",
     "text": [
      "Mean 5-way accuracy: 0.6881012658227849\n",
      "Min 5-way accuracy: 0.5164556962025316\n",
      "Max 5-way accuracy: 0.8107594936708861\n",
      "5-way accuracy std.: 0.09170787797256248\n"
     ]
    }
   ],
   "source": [
    "from core.util import evaluate_n_way_accuracy\n",
    "\n",
    "\n",
    "y_true, y_pred, mean_acc, min_acc, max_acc, std = evaluate_n_way_accuracy(\n",
    "    x_test,\n",
    "    y_test,\n",
    "    snn_encoder,\n",
    "    k_prototype=1,\n",
    "    iterations=10\n",
    ")\n",
    "\n",
    "print(\n",
    "    f\"Mean 5-way accuracy: {mean_acc}\\n\"\n",
    "    f\"Min 5-way accuracy: {min_acc}\\n\"\n",
    "    f\"Max 5-way accuracy: {max_acc}\\n\"\n",
    "    f\"5-way accuracy std.: {std}\"\n",
    ")"
   ]
  },
  {
   "cell_type": "markdown",
   "metadata": {},
   "source": [
    "The model also struggles with the discrimination of \"u\" and \"v\" classes in much the same way:"
   ]
  },
  {
   "cell_type": "code",
   "execution_count": 24,
   "metadata": {},
   "outputs": [
    {
     "data": {
      "image/png": "[encoded data removed]",
      "text/plain": [
       "<Figure size 500x500 with 1 Axes>"
      ]
     },
     "metadata": {},
     "output_type": "display_data"
    }
   ],
   "source": [
    "unique_test_labels = list(set(y_test))\n",
    "reverse_label_map = {int_lbl: str_lbl for str_lbl, int_lbl in label_map.items()}\n",
    "str_test_labels = [reverse_label_map[lbl] for lbl in unique_test_labels]\n",
    "\n",
    "visualize_confusion_matrix(\n",
    "    y_true, y_pred,\n",
    "    str_test_labels,\n",
    "    f\"{FIG_DIR}/npair_loss_conf_matrix.svg\"\n",
    ")"
   ]
  },
  {
   "cell_type": "markdown",
   "metadata": {},
   "source": [
    "Using support prototypes drastically improves the model's performance, but it still lacks behind Contrastive Loss:"
   ]
  },
  {
   "cell_type": "code",
   "execution_count": 25,
   "metadata": {},
   "outputs": [
    {
     "name": "stdout",
     "output_type": "stream",
     "text": [
      "Mean 5-way accuracy (k-prototype = 1): 0.6881012658227849, std: 0.09170787797256248\n",
      "Mean 5-way accuracy (k-prototype = 3): 0.7623566878980893, std: 0.04683105588220703\n",
      "Mean 5-way accuracy (k-prototype = 5): 0.7905769230769232, std: 0.03675939726533856\n",
      "Mean 5-way accuracy (k-prototype = 10): 0.8099674267100976, std: 0.02482255673062977\n",
      "Mean 5-way accuracy (k-prototype = 15): 0.8010596026490064, std: 0.020043809743198374\n",
      "Mean 5-way accuracy (k-prototype = 20): 0.8119191919191919, std: 0.01721339103665997\n",
      "Mean 5-way accuracy (k-prototype = 50): 0.809812734082397, std: 0.009659436702926037\n",
      "Mean 5-way accuracy (k-prototype = 75): 0.8126446280991736, std: 0.013098847663907667\n",
      "Mean 5-way accuracy (k-prototype = 100): 0.812995391705069, std: 0.009412209722487828\n",
      "Saved Multi-Class N-Pair Loss metrics to metrics.json\n"
     ]
    }
   ],
   "source": [
    "from core.util import save_n_way_k_prototype_accuracy\n",
    "\n",
    "save_n_way_k_prototype_accuracy(\n",
    "    x_test,\n",
    "    y_test,\n",
    "    snn_encoder,\n",
    "    METRICS_FILEPATH,\n",
    "    \"Multi-Class N-Pair Loss\"\n",
    ")"
   ]
  },
  {
   "cell_type": "code",
   "execution_count": 26,
   "metadata": {},
   "outputs": [
    {
     "data": {
      "image/png": "[encoded data removed]",
      "text/plain": [
       "<Figure size 500x500 with 1 Axes>"
      ]
     },
     "metadata": {},
     "output_type": "display_data"
    }
   ],
   "source": [
    "y_true, y_pred, _, _, _, _ = evaluate_n_way_accuracy(\n",
    "    x_test,\n",
    "    y_test,\n",
    "    snn_encoder,\n",
    "    k_prototype=10,\n",
    "    iterations=10\n",
    ")\n",
    "\n",
    "visualize_confusion_matrix(\n",
    "    y_true, y_pred,\n",
    "    str_test_labels,\n",
    "    f\"{FIG_DIR}/npair_loss_conf_matrix_k10.svg\"\n",
    ")"
   ]
  },
  {
   "cell_type": "markdown",
   "metadata": {},
   "source": [
    "Lastly, we'll visualize this model's embedding space:"
   ]
  },
  {
   "cell_type": "code",
   "execution_count": 27,
   "metadata": {},
   "outputs": [
    {
     "name": "stdout",
     "output_type": "stream",
     "text": [
      "50/50 [==============================] - 0s 4ms/step\n"
     ]
    }
   ],
   "source": [
    "# And get embeddings for the test data\n",
    "embeddings = snn_encoder.predict(x_test)"
   ]
  },
  {
   "cell_type": "code",
   "execution_count": 28,
   "metadata": {},
   "outputs": [
    {
     "name": "stdout",
     "output_type": "stream",
     "text": [
      "[t-SNE] Computing 91 nearest neighbors...\n",
      "[t-SNE] Indexed 1585 samples in 0.000s...\n",
      "[t-SNE] Computed neighbors for 1585 samples in 0.323s...\n",
      "[t-SNE] Computed conditional probabilities for sample 1000 / 1585\n",
      "[t-SNE] Computed conditional probabilities for sample 1585 / 1585\n",
      "[t-SNE] Mean sigma: 3.048883\n",
      "[t-SNE] KL divergence after 250 iterations with early exaggeration: 55.875130\n",
      "[t-SNE] KL divergence after 1000 iterations: 0.413897\n"
     ]
    }
   ],
   "source": [
    "from sklearn.manifold import TSNE\n",
    "\n",
    "# Fit T-SNE on embeddings\n",
    "tsne = TSNE(n_components=2, random_state=42, verbose=1)\n",
    "reduced_embeddings = tsne.fit_transform(embeddings)"
   ]
  },
  {
   "cell_type": "markdown",
   "metadata": {},
   "source": [
    "Unsurprisingly, the embeddings do look better separated than with Triplet Loss, but we can still observe the overlap of \"u\" and \"v\" samples:"
   ]
  },
  {
   "cell_type": "code",
   "execution_count": 29,
   "metadata": {},
   "outputs": [
    {
     "data": {
      "image/png": "[encoded data removed]",
      "text/plain": [
       "<Figure size 500x300 with 1 Axes>"
      ]
     },
     "metadata": {},
     "output_type": "display_data"
    }
   ],
   "source": [
    "from core.viz import visualize_embeddings\n",
    "\n",
    "# Visualize embeddings in scatter plot\n",
    "visualize_embeddings(\n",
    "    reduced_embeddings,\n",
    "    y_test,\n",
    "    label_map,\n",
    "    f\"{FIG_DIR}/npair_loss_embeddings.svg\"\n",
    ")"
   ]
  },
  {
   "cell_type": "markdown",
   "metadata": {},
   "source": [
    "Although we weren't able to improve upon the Contrastive Loss model, the results are still very interesting.\n",
    "\n",
    "As a [conclusion to the experiments](./prototype_comparison.ipynb), we'll compare how the different models benefit from different amounts of samples being used to form the support prototypes."
   ]
  }
 ],
 "metadata": {
  "kernelspec": {
   "display_name": "venv",
   "language": "python",
   "name": "python3"
  },
  "language_info": {
   "codemirror_mode": {
    "name": "ipython",
    "version": 3
   },
   "file_extension": ".py",
   "mimetype": "text/x-python",
   "name": "python",
   "nbconvert_exporter": "python",
   "pygments_lexer": "ipython3",
   "version": "3.10.11"
  }
 },
 "nbformat": 4,
 "nbformat_minor": 2
}
